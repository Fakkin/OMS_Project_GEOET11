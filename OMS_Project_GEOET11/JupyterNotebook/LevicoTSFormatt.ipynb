{
 "cells": [
  {
   "cell_type": "markdown",
   "id": "00b95358-9970-4099-a4ba-423662bce5dd",
   "metadata": {},
   "source": [
    "# Creatore Serie Temporali"
   ]
  },
  {
   "cell_type": "code",
   "execution_count": 1,
   "id": "9ade4d44-49c8-4e62-aea9-82053ad96a23",
   "metadata": {},
   "outputs": [],
   "source": [
    "import os\n",
    "import numpy as np\n",
    "import pandas as pd\n",
    "import calendar\n",
    "import matplotlib.pyplot as plt\n",
    "import matplotlib.dates as mdates\n",
    "import geoframepy\n",
    "from timeseries_writer import *\n",
    "oms_project_path = os.path.dirname(os.getcwd())"
   ]
  },
  {
   "cell_type": "code",
   "execution_count": 2,
   "id": "db71127c-cd85-4438-811e-c831327677d1",
   "metadata": {},
   "outputs": [
    {
     "data": {
      "text/plain": [
       "['1',\n",
       " 'dem_Levico.tif',\n",
       " 'Pressione_Levico.csv',\n",
       " 'RadSolTot_Levico.csv',\n",
       " 'Temp_Levico.csv']"
      ]
     },
     "execution_count": 2,
     "metadata": {},
     "output_type": "execute_result"
    }
   ],
   "source": [
    "os.chdir(oms_project_path+'\\\\data\\\\Levico')\n",
    "os.listdir()"
   ]
  },
  {
   "cell_type": "code",
   "execution_count": 3,
   "id": "373d7218-a6c1-46ee-9931-ceecbb82843f",
   "metadata": {},
   "outputs": [
    {
     "data": {
      "text/html": [
       "<div>\n",
       "<style scoped>\n",
       "    .dataframe tbody tr th:only-of-type {\n",
       "        vertical-align: middle;\n",
       "    }\n",
       "\n",
       "    .dataframe tbody tr th {\n",
       "        vertical-align: top;\n",
       "    }\n",
       "\n",
       "    .dataframe thead th {\n",
       "        text-align: right;\n",
       "    }\n",
       "</style>\n",
       "<table border=\"1\" class=\"dataframe\">\n",
       "  <thead>\n",
       "    <tr style=\"text-align: right;\">\n",
       "      <th></th>\n",
       "      <th>Datetime</th>\n",
       "      <th>Value</th>\n",
       "      <th>Quality</th>\n",
       "      <th>Metadata</th>\n",
       "    </tr>\n",
       "  </thead>\n",
       "  <tbody>\n",
       "    <tr>\n",
       "      <th>0</th>\n",
       "      <td>11:00:00 17/08/2004</td>\n",
       "      <td>NaN</td>\n",
       "      <td>255.0</td>\n",
       "      <td>Sites:</td>\n",
       "    </tr>\n",
       "    <tr>\n",
       "      <th>1</th>\n",
       "      <td>12:00:00 17/08/2004</td>\n",
       "      <td>759.0</td>\n",
       "      <td>1.0</td>\n",
       "      <td>T0010 - Levico (Terme) Lat:46.010558 Long:11.3...</td>\n",
       "    </tr>\n",
       "    <tr>\n",
       "      <th>2</th>\n",
       "      <td>13:00:00 17/08/2004</td>\n",
       "      <td>1062.0</td>\n",
       "      <td>1.0</td>\n",
       "      <td>NaN</td>\n",
       "    </tr>\n",
       "    <tr>\n",
       "      <th>3</th>\n",
       "      <td>14:00:00 17/08/2004</td>\n",
       "      <td>1850.0</td>\n",
       "      <td>1.0</td>\n",
       "      <td>Variables:</td>\n",
       "    </tr>\n",
       "    <tr>\n",
       "      <th>4</th>\n",
       "      <td>15:00:00 17/08/2004</td>\n",
       "      <td>1646.0</td>\n",
       "      <td>1.0</td>\n",
       "      <td>750 - Radiazione solare totale (KJoule/metroqu...</td>\n",
       "    </tr>\n",
       "  </tbody>\n",
       "</table>\n",
       "</div>"
      ],
      "text/plain": [
       "              Datetime   Value  Quality  \\\n",
       "0  11:00:00 17/08/2004     NaN    255.0   \n",
       "1  12:00:00 17/08/2004   759.0      1.0   \n",
       "2  13:00:00 17/08/2004  1062.0      1.0   \n",
       "3  14:00:00 17/08/2004  1850.0      1.0   \n",
       "4  15:00:00 17/08/2004  1646.0      1.0   \n",
       "\n",
       "                                            Metadata  \n",
       "0                                             Sites:  \n",
       "1  T0010 - Levico (Terme) Lat:46.010558 Long:11.3...  \n",
       "2                                                NaN  \n",
       "3                                         Variables:  \n",
       "4  750 - Radiazione solare totale (KJoule/metroqu...  "
      ]
     },
     "execution_count": 3,
     "metadata": {},
     "output_type": "execute_result"
    }
   ],
   "source": [
    "df= pd.read_csv(\"RadSolTot_Levico.csv\", skiprows=4 , on_bad_lines='skip', low_memory=False, encoding = 'unicode_escape',names=['Datetime','Value','Quality','Metadata'])\n",
    "df.head()"
   ]
  },
  {
   "cell_type": "code",
   "execution_count": null,
   "id": "70ac4b36-ff6d-4896-b8ce-039afe7c909c",
   "metadata": {},
   "outputs": [],
   "source": [
    "#df['Datetime'] = pd.to_datetime(df['Datetime'], dayfirst=True, errors='ignore')"
   ]
  },
  {
   "cell_type": "code",
   "execution_count": 6,
   "id": "0d02032b-bc25-4e37-a345-758dfe6049b4",
   "metadata": {},
   "outputs": [],
   "source": [
    "df_dates=df[['Datetime','Value']].copy()"
   ]
  },
  {
   "cell_type": "code",
   "execution_count": 7,
   "id": "d426d4f8-eb85-4b23-9971-bb2300fee2ab",
   "metadata": {},
   "outputs": [
    {
     "data": {
      "text/html": [
       "<div>\n",
       "<style scoped>\n",
       "    .dataframe tbody tr th:only-of-type {\n",
       "        vertical-align: middle;\n",
       "    }\n",
       "\n",
       "    .dataframe tbody tr th {\n",
       "        vertical-align: top;\n",
       "    }\n",
       "\n",
       "    .dataframe thead th {\n",
       "        text-align: right;\n",
       "    }\n",
       "</style>\n",
       "<table border=\"1\" class=\"dataframe\">\n",
       "  <thead>\n",
       "    <tr style=\"text-align: right;\">\n",
       "      <th></th>\n",
       "      <th>Value</th>\n",
       "    </tr>\n",
       "    <tr>\n",
       "      <th>Datetime</th>\n",
       "      <th></th>\n",
       "    </tr>\n",
       "  </thead>\n",
       "  <tbody>\n",
       "    <tr>\n",
       "      <th>11:00:00 17/08/2004</th>\n",
       "      <td>NaN</td>\n",
       "    </tr>\n",
       "    <tr>\n",
       "      <th>12:00:00 17/08/2004</th>\n",
       "      <td>759.0</td>\n",
       "    </tr>\n",
       "    <tr>\n",
       "      <th>13:00:00 17/08/2004</th>\n",
       "      <td>1062.0</td>\n",
       "    </tr>\n",
       "    <tr>\n",
       "      <th>14:00:00 17/08/2004</th>\n",
       "      <td>1850.0</td>\n",
       "    </tr>\n",
       "    <tr>\n",
       "      <th>15:00:00 17/08/2004</th>\n",
       "      <td>1646.0</td>\n",
       "    </tr>\n",
       "  </tbody>\n",
       "</table>\n",
       "</div>"
      ],
      "text/plain": [
       "                      Value\n",
       "Datetime                   \n",
       "11:00:00 17/08/2004     NaN\n",
       "12:00:00 17/08/2004   759.0\n",
       "13:00:00 17/08/2004  1062.0\n",
       "14:00:00 17/08/2004  1850.0\n",
       "15:00:00 17/08/2004  1646.0"
      ]
     },
     "execution_count": 7,
     "metadata": {},
     "output_type": "execute_result"
    }
   ],
   "source": [
    "df_dates.set_index('Datetime', inplace=True)\n",
    "df_dates.head()"
   ]
  },
  {
   "cell_type": "code",
   "execution_count": null,
   "id": "01918e26-aa3b-4a32-a0b4-10ed476b75d7",
   "metadata": {},
   "outputs": [],
   "source": []
  },
  {
   "cell_type": "code",
   "execution_count": 8,
   "id": "58620271-8aca-48d4-af23-17535db61b4f",
   "metadata": {},
   "outputs": [
    {
     "ename": "TypeError",
     "evalue": "Only valid with DatetimeIndex, TimedeltaIndex or PeriodIndex, but got an instance of 'Index'",
     "output_type": "error",
     "traceback": [
      "\u001b[1;31m---------------------------------------------------------------------------\u001b[0m",
      "\u001b[1;31mTypeError\u001b[0m                                 Traceback (most recent call last)",
      "\u001b[1;32m~\\AppData\\Local\\Temp\\ipykernel_18744\\4273015982.py\u001b[0m in \u001b[0;36m<module>\u001b[1;34m\u001b[0m\n\u001b[1;32m----> 1\u001b[1;33m \u001b[0mdf_hourly\u001b[0m \u001b[1;33m=\u001b[0m \u001b[0mdf_dates\u001b[0m\u001b[1;33m.\u001b[0m\u001b[0mresample\u001b[0m\u001b[1;33m(\u001b[0m\u001b[1;34m'1H'\u001b[0m\u001b[1;33m)\u001b[0m\u001b[1;33m.\u001b[0m\u001b[0mmean\u001b[0m\u001b[1;33m(\u001b[0m\u001b[1;33m)\u001b[0m\u001b[1;33m\u001b[0m\u001b[1;33m\u001b[0m\u001b[0m\n\u001b[0m\u001b[0;32m      2\u001b[0m \u001b[0mdf_hourly\u001b[0m\u001b[1;33m.\u001b[0m\u001b[0mhead\u001b[0m\u001b[1;33m(\u001b[0m\u001b[1;33m)\u001b[0m\u001b[1;33m\u001b[0m\u001b[1;33m\u001b[0m\u001b[0m\n",
      "\u001b[1;32m~\\anaconda3\\envs\\geoframe_verona\\lib\\site-packages\\pandas\\core\\frame.py\u001b[0m in \u001b[0;36mresample\u001b[1;34m(self, rule, axis, closed, label, convention, kind, loffset, base, on, level, origin, offset)\u001b[0m\n\u001b[0;32m  10360\u001b[0m             \u001b[0mlevel\u001b[0m\u001b[1;33m=\u001b[0m\u001b[0mlevel\u001b[0m\u001b[1;33m,\u001b[0m\u001b[1;33m\u001b[0m\u001b[1;33m\u001b[0m\u001b[0m\n\u001b[0;32m  10361\u001b[0m             \u001b[0morigin\u001b[0m\u001b[1;33m=\u001b[0m\u001b[0morigin\u001b[0m\u001b[1;33m,\u001b[0m\u001b[1;33m\u001b[0m\u001b[1;33m\u001b[0m\u001b[0m\n\u001b[1;32m> 10362\u001b[1;33m             \u001b[0moffset\u001b[0m\u001b[1;33m=\u001b[0m\u001b[0moffset\u001b[0m\u001b[1;33m,\u001b[0m\u001b[1;33m\u001b[0m\u001b[1;33m\u001b[0m\u001b[0m\n\u001b[0m\u001b[0;32m  10363\u001b[0m         )\n\u001b[0;32m  10364\u001b[0m \u001b[1;33m\u001b[0m\u001b[0m\n",
      "\u001b[1;32m~\\anaconda3\\envs\\geoframe_verona\\lib\\site-packages\\pandas\\core\\generic.py\u001b[0m in \u001b[0;36mresample\u001b[1;34m(self, rule, axis, closed, label, convention, kind, loffset, base, on, level, origin, offset)\u001b[0m\n\u001b[0;32m   8137\u001b[0m             \u001b[0mlevel\u001b[0m\u001b[1;33m=\u001b[0m\u001b[0mlevel\u001b[0m\u001b[1;33m,\u001b[0m\u001b[1;33m\u001b[0m\u001b[1;33m\u001b[0m\u001b[0m\n\u001b[0;32m   8138\u001b[0m             \u001b[0morigin\u001b[0m\u001b[1;33m=\u001b[0m\u001b[0morigin\u001b[0m\u001b[1;33m,\u001b[0m\u001b[1;33m\u001b[0m\u001b[1;33m\u001b[0m\u001b[0m\n\u001b[1;32m-> 8139\u001b[1;33m             \u001b[0moffset\u001b[0m\u001b[1;33m=\u001b[0m\u001b[0moffset\u001b[0m\u001b[1;33m,\u001b[0m\u001b[1;33m\u001b[0m\u001b[1;33m\u001b[0m\u001b[0m\n\u001b[0m\u001b[0;32m   8140\u001b[0m         )\n\u001b[0;32m   8141\u001b[0m \u001b[1;33m\u001b[0m\u001b[0m\n",
      "\u001b[1;32m~\\anaconda3\\envs\\geoframe_verona\\lib\\site-packages\\pandas\\core\\resample.py\u001b[0m in \u001b[0;36mget_resampler\u001b[1;34m(obj, kind, **kwds)\u001b[0m\n\u001b[0;32m   1380\u001b[0m     \"\"\"\n\u001b[0;32m   1381\u001b[0m     \u001b[0mtg\u001b[0m \u001b[1;33m=\u001b[0m \u001b[0mTimeGrouper\u001b[0m\u001b[1;33m(\u001b[0m\u001b[1;33m**\u001b[0m\u001b[0mkwds\u001b[0m\u001b[1;33m)\u001b[0m\u001b[1;33m\u001b[0m\u001b[1;33m\u001b[0m\u001b[0m\n\u001b[1;32m-> 1382\u001b[1;33m     \u001b[1;32mreturn\u001b[0m \u001b[0mtg\u001b[0m\u001b[1;33m.\u001b[0m\u001b[0m_get_resampler\u001b[0m\u001b[1;33m(\u001b[0m\u001b[0mobj\u001b[0m\u001b[1;33m,\u001b[0m \u001b[0mkind\u001b[0m\u001b[1;33m=\u001b[0m\u001b[0mkind\u001b[0m\u001b[1;33m)\u001b[0m\u001b[1;33m\u001b[0m\u001b[1;33m\u001b[0m\u001b[0m\n\u001b[0m\u001b[0;32m   1383\u001b[0m \u001b[1;33m\u001b[0m\u001b[0m\n\u001b[0;32m   1384\u001b[0m \u001b[1;33m\u001b[0m\u001b[0m\n",
      "\u001b[1;32m~\\anaconda3\\envs\\geoframe_verona\\lib\\site-packages\\pandas\\core\\resample.py\u001b[0m in \u001b[0;36m_get_resampler\u001b[1;34m(self, obj, kind)\u001b[0m\n\u001b[0;32m   1557\u001b[0m \u001b[1;33m\u001b[0m\u001b[0m\n\u001b[0;32m   1558\u001b[0m         raise TypeError(\n\u001b[1;32m-> 1559\u001b[1;33m             \u001b[1;34m\"Only valid with DatetimeIndex, \"\u001b[0m\u001b[1;33m\u001b[0m\u001b[1;33m\u001b[0m\u001b[0m\n\u001b[0m\u001b[0;32m   1560\u001b[0m             \u001b[1;34m\"TimedeltaIndex or PeriodIndex, \"\u001b[0m\u001b[1;33m\u001b[0m\u001b[1;33m\u001b[0m\u001b[0m\n\u001b[0;32m   1561\u001b[0m             \u001b[1;34mf\"but got an instance of '{type(ax).__name__}'\"\u001b[0m\u001b[1;33m\u001b[0m\u001b[1;33m\u001b[0m\u001b[0m\n",
      "\u001b[1;31mTypeError\u001b[0m: Only valid with DatetimeIndex, TimedeltaIndex or PeriodIndex, but got an instance of 'Index'"
     ]
    }
   ],
   "source": [
    "df_hourly = df_dates.resample('1H').mean()\n",
    "df_hourly.head()"
   ]
  },
  {
   "cell_type": "code",
   "execution_count": null,
   "id": "cce2ce03-5f3b-4e3a-87c3-17ef2837bfa6",
   "metadata": {},
   "outputs": [],
   "source": [
    "date_rng = pd.date_range(start='1/1/2019 00:00', end='1/1/2020 00:00' , freq='1H')\n",
    "date_rng"
   ]
  },
  {
   "cell_type": "code",
   "execution_count": null,
   "id": "4ddee9a1-5fa9-4b7e-b971-613bfc255e40",
   "metadata": {},
   "outputs": [],
   "source": [
    "dfOut = pd.DataFrame(date_rng, columns=['DateTime'])\n",
    "dfOut['RadNet'] = df_dates['Value']\n",
    "#dfOut.insert(loc=0, column='-', value=np.nan)"
   ]
  },
  {
   "cell_type": "code",
   "execution_count": null,
   "id": "e99e5ee6-27f6-4882-8272-97538e6337f0",
   "metadata": {},
   "outputs": [],
   "source": [
    "dfOut"
   ]
  },
  {
   "cell_type": "code",
   "execution_count": null,
   "id": "ec6abed7-db6b-4acb-8029-32b466aa43ec",
   "metadata": {},
   "outputs": [],
   "source": [
    "df_hourly = df.resample('1H').mean()\n",
    "df_hourly.head()"
   ]
  },
  {
   "cell_type": "code",
   "execution_count": null,
   "id": "723d4c40-e693-4821-a227-2a52b0f5c91c",
   "metadata": {},
   "outputs": [],
   "source": []
  },
  {
   "cell_type": "code",
   "execution_count": null,
   "id": "074de1a9-5a19-4693-a5f6-ca93dfc83657",
   "metadata": {},
   "outputs": [],
   "source": [
    "date_rng = pd.date_range(start='1/1/2019 00:00', end='1/1/2020 00:00' , freq='1H')\n",
    "date_rng"
   ]
  },
  {
   "cell_type": "code",
   "execution_count": null,
   "id": "e49e1fe5-f17e-47e2-b48a-2768f48b35c6",
   "metadata": {},
   "outputs": [],
   "source": [
    "df.set_index('Datetime', inplace=True)\n",
    "df.head()"
   ]
  },
  {
   "cell_type": "code",
   "execution_count": null,
   "id": "5e633827-3e0c-4405-bb0e-f765d6ff2894",
   "metadata": {},
   "outputs": [],
   "source": [
    "df = df.replace(np.nan,'-9999')"
   ]
  },
  {
   "cell_type": "code",
   "execution_count": null,
   "id": "ac01bd12-7ff1-4a04-8177-cda155e9dad5",
   "metadata": {},
   "outputs": [],
   "source": [
    "dfOut = pd.DataFrame(date_rng, columns=['DateTime'])\n",
    "dfOut['RadNet'] = df['Value']\n",
    "dfOut.insert(loc=0, column='-', value=np.nan)"
   ]
  },
  {
   "cell_type": "code",
   "execution_count": null,
   "id": "6caef356-d643-42f3-820c-64ab3b042750",
   "metadata": {},
   "outputs": [],
   "source": [
    "dfOut=dfOut.drop('-',axis=1)"
   ]
  },
  {
   "cell_type": "code",
   "execution_count": null,
   "id": "5f85218a-97fb-40e8-8f20-38602cb0aad2",
   "metadata": {},
   "outputs": [],
   "source": [
    "dfOut"
   ]
  },
  {
   "cell_type": "code",
   "execution_count": null,
   "id": "052e28f3-8c37-4af7-aafa-14d4842956f3",
   "metadata": {},
   "outputs": [],
   "source": [
    "df_dates = pd.DataFrame({'Time': date_rng})\n",
    "df_dates.set_index('Time',inplace=True)\n",
    "df_dates = df_dates.join(df_hourly, how='outer')"
   ]
  },
  {
   "cell_type": "code",
   "execution_count": null,
   "id": "25f46118-c983-4b35-8419-964109fe0c01",
   "metadata": {},
   "outputs": [],
   "source": []
  },
  {
   "cell_type": "code",
   "execution_count": null,
   "id": "ea10e653-8bed-4de0-91b9-1a9493d9b29d",
   "metadata": {},
   "outputs": [],
   "source": [
    "dfOut = dfOut.replace(np.nan,'-9999')"
   ]
  },
  {
   "cell_type": "code",
   "execution_count": null,
   "id": "2bcc414f-e982-4b90-937f-5427357d54ec",
   "metadata": {},
   "outputs": [],
   "source": [
    "write_timeseries_csv(dfOut,'Temp_Levico_OUT_1.csv')"
   ]
  },
  {
   "cell_type": "markdown",
   "id": "595f02dc-dba9-4e2b-bdea-0bf7490efb8b",
   "metadata": {},
   "source": [
    "io_csv.write_OMS_timeseries(df.iloc[:,1:], oms_project_path+'\\\\data\\\\Levico\\\\RadSolTot_Levico_OUT_1.csv', has_datetime=False)"
   ]
  }
 ],
 "metadata": {
  "kernelspec": {
   "display_name": "Python 3 (ipykernel)",
   "language": "python",
   "name": "python3"
  },
  "language_info": {
   "codemirror_mode": {
    "name": "ipython",
    "version": 3
   },
   "file_extension": ".py",
   "mimetype": "text/x-python",
   "name": "python",
   "nbconvert_exporter": "python",
   "pygments_lexer": "ipython3",
   "version": "3.7.12"
  }
 },
 "nbformat": 4,
 "nbformat_minor": 5
}
