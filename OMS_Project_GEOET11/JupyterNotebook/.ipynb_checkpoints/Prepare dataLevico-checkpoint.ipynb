{
 "cells": [
  {
   "cell_type": "markdown",
   "metadata": {},
   "source": [
    "# Prepare timeseries data FOR LEVICO\n",
    "\n",
    "-----\n",
    "**TASK**\n",
    "- control the consistency of the time series\n",
    "- control the quality of data\n",
    "- resample the time series\n",
    "\n",
    "\n"
   ]
  },
  {
   "cell_type": "markdown",
   "metadata": {},
   "source": [
    "## Work directory\n",
    "\n",
    "`Precipitation`\n",
    "\n",
    "---`Raw_data`: data downloaded from meteo services\n",
    "\n",
    "---`Checked_data`: checked data (time series consistency, quality) \n",
    "\n",
    "---`Hourly_data`: checked data resample at hourly time scale   "
   ]
  },
  {
   "cell_type": "code",
   "execution_count": 1,
   "metadata": {},
   "outputs": [
    {
     "name": "stdout",
     "output_type": "stream",
     "text": [
      "\t C:\\Users\\super\\OMS_Project_GEOET11\\OMS_Project_GEOET11\\JupyterNotebook\n"
     ]
    }
   ],
   "source": [
    "import os\n",
    "import pandas as pd\n",
    "import numpy as np\n",
    "import matplotlib.pyplot as plt\n",
    "import matplotlib.pylab as pylab\n",
    "%matplotlib inline\n",
    "#import datetime as datetime\n",
    "from datetime import datetime, timedelta\n",
    "\n",
    "from plotly import graph_objs as go\n",
    "import calendar\n",
    "from plotly.offline import plot, iplot\n",
    "import plotly.graph_objs as go\n",
    "from IPython.display import Image\n",
    "\n",
    "import warnings\n",
    "warnings.filterwarnings('ignore')\n",
    "\n",
    "work_directory_path = os.getcwd()\n",
    "print('\\t', work_directory_path)"
   ]
  },
  {
   "cell_type": "code",
   "execution_count": 2,
   "metadata": {},
   "outputs": [],
   "source": [
    "oms_project_path = os.path.dirname(os.getcwd())\n",
    "os.chdir(oms_project_path+'\\\\data\\\\Levico')"
   ]
  },
  {
   "cell_type": "code",
   "execution_count": 3,
   "metadata": {},
   "outputs": [
    {
     "data": {
      "text/plain": [
       "['1',\n",
       " '2',\n",
       " 'Cost9999.csv',\n",
       " 'DATASS_Levico_1H.csv',\n",
       " 'Net_1.csv',\n",
       " 'Net_allsky_1.csv',\n",
       " 'Pressione_Levico.csv',\n",
       " 'Pressione_Levico_0.csv',\n",
       " 'Prova_sole.csv',\n",
       " 'RadSolTot_Levico.csv',\n",
       " 'Sin_.csv',\n",
       " 'Temp_Levico.csv',\n",
       " 'Temp_Levico_0.csv',\n",
       " 'UmiAriPerc_Levico.csv',\n",
       " 'UmiAriPerc_Levico_0.csv',\n",
       " 'VelVenMedia_Levico.csv',\n",
       " 'VelVenMedia_Levico_0.csv']"
      ]
     },
     "execution_count": 3,
     "metadata": {},
     "output_type": "execute_result"
    }
   ],
   "source": [
    "os.listdir()"
   ]
  },
  {
   "cell_type": "markdown",
   "metadata": {},
   "source": [
    "## Read the file \n",
    "\n"
   ]
  },
  {
   "cell_type": "code",
   "execution_count": 4,
   "metadata": {},
   "outputs": [],
   "source": [
    "filename='Pressione_Levico'"
   ]
  },
  {
   "cell_type": "code",
   "execution_count": 5,
   "metadata": {},
   "outputs": [
    {
     "data": {
      "text/html": [
       "<div>\n",
       "<style scoped>\n",
       "    .dataframe tbody tr th:only-of-type {\n",
       "        vertical-align: middle;\n",
       "    }\n",
       "\n",
       "    .dataframe tbody tr th {\n",
       "        vertical-align: top;\n",
       "    }\n",
       "\n",
       "    .dataframe thead th {\n",
       "        text-align: right;\n",
       "    }\n",
       "</style>\n",
       "<table border=\"1\" class=\"dataframe\">\n",
       "  <thead>\n",
       "    <tr style=\"text-align: right;\">\n",
       "      <th></th>\n",
       "      <th>Datetime</th>\n",
       "      <th>Value</th>\n",
       "      <th>Quality</th>\n",
       "      <th>Metadata</th>\n",
       "    </tr>\n",
       "  </thead>\n",
       "  <tbody>\n",
       "    <tr>\n",
       "      <th>0</th>\n",
       "      <td>2004-08-17 11:30:00</td>\n",
       "      <td>955.9</td>\n",
       "      <td>1.0</td>\n",
       "      <td>Sites:</td>\n",
       "    </tr>\n",
       "    <tr>\n",
       "      <th>1</th>\n",
       "      <td>2004-08-17 11:45:00</td>\n",
       "      <td>956.1</td>\n",
       "      <td>1.0</td>\n",
       "      <td>T0010 - Levico (Terme) Lat:46.010558 Long:11.3...</td>\n",
       "    </tr>\n",
       "    <tr>\n",
       "      <th>2</th>\n",
       "      <td>2004-08-17 12:00:00</td>\n",
       "      <td>956.1</td>\n",
       "      <td>1.0</td>\n",
       "      <td>NaN</td>\n",
       "    </tr>\n",
       "    <tr>\n",
       "      <th>3</th>\n",
       "      <td>2004-08-17 12:15:00</td>\n",
       "      <td>956.1</td>\n",
       "      <td>1.0</td>\n",
       "      <td>Variables:</td>\n",
       "    </tr>\n",
       "    <tr>\n",
       "      <th>4</th>\n",
       "      <td>2004-08-17 12:30:00</td>\n",
       "      <td>955.9</td>\n",
       "      <td>1.0</td>\n",
       "      <td>550 - Pressione atmosferica (Ettopascal)</td>\n",
       "    </tr>\n",
       "  </tbody>\n",
       "</table>\n",
       "</div>"
      ],
      "text/plain": [
       "             Datetime  Value  Quality  \\\n",
       "0 2004-08-17 11:30:00  955.9      1.0   \n",
       "1 2004-08-17 11:45:00  956.1      1.0   \n",
       "2 2004-08-17 12:00:00  956.1      1.0   \n",
       "3 2004-08-17 12:15:00  956.1      1.0   \n",
       "4 2004-08-17 12:30:00  955.9      1.0   \n",
       "\n",
       "                                            Metadata  \n",
       "0                                             Sites:  \n",
       "1  T0010 - Levico (Terme) Lat:46.010558 Long:11.3...  \n",
       "2                                                NaN  \n",
       "3                                         Variables:  \n",
       "4           550 - Pressione atmosferica (Ettopascal)  "
      ]
     },
     "execution_count": 5,
     "metadata": {},
     "output_type": "execute_result"
    }
   ],
   "source": [
    "raw_data = pd.read_csv(filename+'.csv', skiprows = 4, names=['Datetime','Value','Quality','Metadata'], low_memory=False,encoding= 'unicode_escape')\n",
    "raw_data['Datetime'] = pd.to_datetime(raw_data['Datetime'],dayfirst=True)\n",
    "raw_data.head()"
   ]
  },
  {
   "cell_type": "code",
   "execution_count": 6,
   "metadata": {},
   "outputs": [
    {
     "data": {
      "text/html": [
       "<div>\n",
       "<style scoped>\n",
       "    .dataframe tbody tr th:only-of-type {\n",
       "        vertical-align: middle;\n",
       "    }\n",
       "\n",
       "    .dataframe tbody tr th {\n",
       "        vertical-align: top;\n",
       "    }\n",
       "\n",
       "    .dataframe thead th {\n",
       "        text-align: right;\n",
       "    }\n",
       "</style>\n",
       "<table border=\"1\" class=\"dataframe\">\n",
       "  <thead>\n",
       "    <tr style=\"text-align: right;\">\n",
       "      <th></th>\n",
       "      <th>Datetime</th>\n",
       "      <th>Value</th>\n",
       "      <th>Quality</th>\n",
       "      <th>Metadata</th>\n",
       "    </tr>\n",
       "  </thead>\n",
       "  <tbody>\n",
       "    <tr>\n",
       "      <th>893933</th>\n",
       "      <td>2022-05-31 06:50:00</td>\n",
       "      <td>0.6</td>\n",
       "      <td>145.0</td>\n",
       "      <td>NaN</td>\n",
       "    </tr>\n",
       "    <tr>\n",
       "      <th>893934</th>\n",
       "      <td>2022-05-31 07:00:00</td>\n",
       "      <td>0.4</td>\n",
       "      <td>145.0</td>\n",
       "      <td>NaN</td>\n",
       "    </tr>\n",
       "    <tr>\n",
       "      <th>893935</th>\n",
       "      <td>2022-05-31 07:10:00</td>\n",
       "      <td>0.4</td>\n",
       "      <td>145.0</td>\n",
       "      <td>NaN</td>\n",
       "    </tr>\n",
       "    <tr>\n",
       "      <th>893936</th>\n",
       "      <td>2022-05-31 07:20:00</td>\n",
       "      <td>0.4</td>\n",
       "      <td>145.0</td>\n",
       "      <td>NaN</td>\n",
       "    </tr>\n",
       "    <tr>\n",
       "      <th>893937</th>\n",
       "      <td>2022-05-31 07:30:00</td>\n",
       "      <td>0.4</td>\n",
       "      <td>145.0</td>\n",
       "      <td>NaN</td>\n",
       "    </tr>\n",
       "  </tbody>\n",
       "</table>\n",
       "</div>"
      ],
      "text/plain": [
       "                  Datetime  Value  Quality Metadata\n",
       "893933 2022-05-31 06:50:00    0.6    145.0      NaN\n",
       "893934 2022-05-31 07:00:00    0.4    145.0      NaN\n",
       "893935 2022-05-31 07:10:00    0.4    145.0      NaN\n",
       "893936 2022-05-31 07:20:00    0.4    145.0      NaN\n",
       "893937 2022-05-31 07:30:00    0.4    145.0      NaN"
      ]
     },
     "execution_count": 6,
     "metadata": {},
     "output_type": "execute_result"
    }
   ],
   "source": [
    "raw_data.tail()"
   ]
  },
  {
   "cell_type": "markdown",
   "metadata": {},
   "source": [
    "## Date format"
   ]
  },
  {
   "cell_type": "code",
   "execution_count": 7,
   "metadata": {},
   "outputs": [
    {
     "name": "stdout",
     "output_type": "stream",
     "text": [
      "INDEX DATE\n",
      "0   2004-08-17 11:30:00\n",
      "1   2004-08-17 11:45:00\n",
      "2   2004-08-17 12:00:00\n",
      "3   2004-08-17 12:15:00\n"
     ]
    }
   ],
   "source": [
    "print('INDEX DATE')\n",
    "print(0, ' ', pd.to_datetime(raw_data['Datetime'][0]))\n",
    "print(1, ' ', pd.to_datetime(raw_data['Datetime'][1]))\n",
    "print(2, ' ', pd.to_datetime(raw_data['Datetime'][2]))\n",
    "print(3, ' ', pd.to_datetime(raw_data['Datetime'][3]))"
   ]
  },
  {
   "cell_type": "markdown",
   "metadata": {},
   "source": [
    "**PROBLEM:** index `2` is not correct. It should be 2004-01-01.\n",
    "\n",
    "**SOLUTION**: specify date format"
   ]
  },
  {
   "cell_type": "code",
   "execution_count": 8,
   "metadata": {},
   "outputs": [
    {
     "name": "stdout",
     "output_type": "stream",
     "text": [
      "INDEX DATE\n",
      "0   2004-08-17 11:30:00\n",
      "1   2004-08-17 11:45:00\n",
      "2   2004-08-17 12:00:00\n",
      "3   2004-08-17 12:15:00\n"
     ]
    }
   ],
   "source": [
    "print('INDEX DATE')\n",
    "print(0, ' ', pd.to_datetime(raw_data['Datetime'][0],format='%H:%M:%S %d/%m/%Y'))\n",
    "print(1, ' ', pd.to_datetime(raw_data['Datetime'][1],format='%H:%M:%S %d/%m/%Y'))\n",
    "print(2, ' ', pd.to_datetime(raw_data['Datetime'][2],format='%H:%M:%S %d/%m/%Y'))\n",
    "print(3, ' ', pd.to_datetime(raw_data['Datetime'][3],dayfirst=True))"
   ]
  },
  {
   "cell_type": "markdown",
   "metadata": {},
   "source": [
    "or use the argument `dayfirst`"
   ]
  },
  {
   "cell_type": "code",
   "execution_count": 9,
   "metadata": {},
   "outputs": [
    {
     "name": "stdout",
     "output_type": "stream",
     "text": [
      "INDEX DATE\n",
      "0   2004-08-17 11:30:00\n",
      "1   2004-08-17 11:45:00\n",
      "2   2004-08-17 12:00:00\n",
      "3   2004-08-17 12:15:00\n"
     ]
    }
   ],
   "source": [
    "print('INDEX DATE')\n",
    "print(0, ' ', pd.to_datetime(raw_data['Datetime'][0],dayfirst=True))\n",
    "print(1, ' ', pd.to_datetime(raw_data['Datetime'][1],dayfirst=True))\n",
    "print(2, ' ', pd.to_datetime(raw_data['Datetime'][2],dayfirst=True))\n",
    "print(3, ' ', pd.to_datetime(raw_data['Datetime'][3],dayfirst=True))"
   ]
  },
  {
   "cell_type": "markdown",
   "metadata": {},
   "source": [
    "**COMPLETE SCRIPT TO READ A TIMESERIES**"
   ]
  },
  {
   "cell_type": "code",
   "execution_count": 10,
   "metadata": {
    "tags": []
   },
   "outputs": [],
   "source": [
    "#raw_data['Datetime'] = pd.to_datetime(raw_data['Datetime'],dayfirst=True)\n",
    "#raw_data.head()"
   ]
  },
  {
   "cell_type": "code",
   "execution_count": 11,
   "metadata": {},
   "outputs": [
    {
     "data": {
      "text/html": [
       "<div>\n",
       "<style scoped>\n",
       "    .dataframe tbody tr th:only-of-type {\n",
       "        vertical-align: middle;\n",
       "    }\n",
       "\n",
       "    .dataframe tbody tr th {\n",
       "        vertical-align: top;\n",
       "    }\n",
       "\n",
       "    .dataframe thead th {\n",
       "        text-align: right;\n",
       "    }\n",
       "</style>\n",
       "<table border=\"1\" class=\"dataframe\">\n",
       "  <thead>\n",
       "    <tr style=\"text-align: right;\">\n",
       "      <th></th>\n",
       "      <th>Datetime</th>\n",
       "      <th>Value</th>\n",
       "      <th>Quality</th>\n",
       "      <th>Metadata</th>\n",
       "    </tr>\n",
       "  </thead>\n",
       "  <tbody>\n",
       "    <tr>\n",
       "      <th>633313</th>\n",
       "      <td>2022-05-31 06:30:00</td>\n",
       "      <td>955.8</td>\n",
       "      <td>145.0</td>\n",
       "      <td>NaN</td>\n",
       "    </tr>\n",
       "    <tr>\n",
       "      <th>633314</th>\n",
       "      <td>2022-05-31 06:45:00</td>\n",
       "      <td>955.9</td>\n",
       "      <td>145.0</td>\n",
       "      <td>NaN</td>\n",
       "    </tr>\n",
       "    <tr>\n",
       "      <th>633315</th>\n",
       "      <td>2022-05-31 07:00:00</td>\n",
       "      <td>956.1</td>\n",
       "      <td>145.0</td>\n",
       "      <td>NaN</td>\n",
       "    </tr>\n",
       "    <tr>\n",
       "      <th>633316</th>\n",
       "      <td>2022-05-31 07:15:00</td>\n",
       "      <td>956.1</td>\n",
       "      <td>145.0</td>\n",
       "      <td>NaN</td>\n",
       "    </tr>\n",
       "    <tr>\n",
       "      <th>633317</th>\n",
       "      <td>2022-05-31 07:30:00</td>\n",
       "      <td>956.3</td>\n",
       "      <td>145.0</td>\n",
       "      <td>NaN</td>\n",
       "    </tr>\n",
       "  </tbody>\n",
       "</table>\n",
       "</div>"
      ],
      "text/plain": [
       "                  Datetime  Value  Quality Metadata\n",
       "633313 2022-05-31 06:30:00  955.8    145.0      NaN\n",
       "633314 2022-05-31 06:45:00  955.9    145.0      NaN\n",
       "633315 2022-05-31 07:00:00  956.1    145.0      NaN\n",
       "633316 2022-05-31 07:15:00  956.1    145.0      NaN\n",
       "633317 2022-05-31 07:30:00  956.3    145.0      NaN"
      ]
     },
     "execution_count": 11,
     "metadata": {},
     "output_type": "execute_result"
    }
   ],
   "source": [
    "raw_data.tail()"
   ]
  },
  {
   "cell_type": "markdown",
   "metadata": {},
   "source": [
    "## Check if there are dups in the timeseries"
   ]
  },
  {
   "cell_type": "code",
   "execution_count": 12,
   "metadata": {},
   "outputs": [
    {
     "data": {
      "text/plain": [
       "True"
      ]
     },
     "execution_count": 12,
     "metadata": {},
     "output_type": "execute_result"
    }
   ],
   "source": [
    "boolean = raw_data.duplicated(subset=['Datetime']).any()\n",
    "boolean"
   ]
  },
  {
   "cell_type": "code",
   "execution_count": 13,
   "metadata": {},
   "outputs": [],
   "source": [
    "## DEAL WITH DUPS\n",
    "#raw_data = raw_data[~raw_data.index.duplicated(keep='first')] # keep the first value\n",
    "raw_data = raw_data[~raw_data.index.duplicated(keep='last')] # keep the last value"
   ]
  },
  {
   "cell_type": "markdown",
   "metadata": {},
   "source": [
    "## Data quality check\n",
    "\n",
    "The meteo file contains also an information about the quality of the data:\n",
    "- 1 dato buono\n",
    "- 90 Neve (ritardato)\n",
    "- 140 dato incerto\n",
    "- 145 da teletrasmissione, non validato\n",
    "- 151 dato mancante\n",
    "- 255 No data\n",
    "\n",
    "This information must be used to prepare the input data."
   ]
  },
  {
   "cell_type": "code",
   "execution_count": 14,
   "metadata": {},
   "outputs": [],
   "source": [
    "quality_check = raw_data[['Datetime','Value','Quality']].copy()\n",
    "#quality_check.head()"
   ]
  },
  {
   "cell_type": "code",
   "execution_count": 15,
   "metadata": {},
   "outputs": [],
   "source": [
    "for i in range(1,quality_check.shape[0]):\n",
    "    if quality_check['Quality'][i]>140:   #ATTENZIONE ERA !=1 pero posso mettere >145 per avere tutti i dati anche se sono incerti...\n",
    "        quality_check['Value'][i] = np.nan"
   ]
  },
  {
   "cell_type": "code",
   "execution_count": 16,
   "metadata": {},
   "outputs": [],
   "source": [
    "#quality_check.head()"
   ]
  },
  {
   "cell_type": "code",
   "execution_count": 17,
   "metadata": {
    "tags": []
   },
   "outputs": [],
   "source": [
    "#quality_check.tail()"
   ]
  },
  {
   "cell_type": "markdown",
   "metadata": {},
   "source": [
    "## Timeseries consistency"
   ]
  },
  {
   "cell_type": "markdown",
   "metadata": {},
   "source": [
    "Some errors may occur parsing dates"
   ]
  },
  {
   "cell_type": "code",
   "execution_count": 18,
   "metadata": {},
   "outputs": [],
   "source": [
    "tmp = []\n",
    "for i in range(0,quality_check.shape[0]-1):\n",
    "    if (raw_data['Datetime'][i+1]<raw_data['Datetime'][i]):\n",
    "        tmp.append(i)\n",
    "\n",
    "if len(tmp)!=0:\n",
    "    print('WARNING: the time series has some wrong dates')\n",
    "    print(tmp)"
   ]
  },
  {
   "cell_type": "markdown",
   "metadata": {},
   "source": [
    "It is possible that in your data the time step is not  multiple of 5 minutes"
   ]
  },
  {
   "cell_type": "code",
   "execution_count": 19,
   "metadata": {
    "jupyter": {
     "source_hidden": true
    },
    "tags": []
   },
   "outputs": [
    {
     "data": {
      "text/plain": [
       "\"\\ntmp = []\\nfor i in range(0,quality_check.shape[0]-1):\\n    if (raw_data['Datetime'][i+1]-raw_data['Datetime'][i])%5:\\n        tmp.append(i)\\n\\nif len(tmp)!=0:\\n    print('WARNING: the time series has some wrong dates')\\n    \""
      ]
     },
     "execution_count": 19,
     "metadata": {},
     "output_type": "execute_result"
    }
   ],
   "source": [
    "'''\n",
    "tmp = []\n",
    "for i in range(0,quality_check.shape[0]-1):\n",
    "    if (raw_data['Datetime'][i+1]-raw_data['Datetime'][i])%5:\n",
    "        tmp.append(i)\n",
    "\n",
    "if len(tmp)!=0:\n",
    "    print('WARNING: the time series has some wrong dates')\n",
    "    '''"
   ]
  },
  {
   "cell_type": "markdown",
   "metadata": {},
   "source": [
    "## Create a complete timeseries\n",
    "A time series is defined by\n",
    "- `start`: start date\n",
    "- `end`: end date\n",
    "- `freq`: frequency. Five minutes `'5min'`, 1 hour `'1H'`, 1 day `'1D'`"
   ]
  },
  {
   "cell_type": "code",
   "execution_count": 21,
   "metadata": {},
   "outputs": [],
   "source": [
    "date_rng=pd.date_range(start='2000-01-01 11:30',end='2022-05-31 07:30',freq='15min')"
   ]
  },
  {
   "cell_type": "code",
   "execution_count": 22,
   "metadata": {},
   "outputs": [
    {
     "data": {
      "text/plain": [
       "DatetimeIndex(['2000-01-01 11:30:00', '2000-01-01 11:45:00',\n",
       "               '2000-01-01 12:00:00', '2000-01-01 12:15:00',\n",
       "               '2000-01-01 12:30:00', '2000-01-01 12:45:00',\n",
       "               '2000-01-01 13:00:00', '2000-01-01 13:15:00',\n",
       "               '2000-01-01 13:30:00', '2000-01-01 13:45:00',\n",
       "               ...\n",
       "               '2022-05-31 05:15:00', '2022-05-31 05:30:00',\n",
       "               '2022-05-31 05:45:00', '2022-05-31 06:00:00',\n",
       "               '2022-05-31 06:15:00', '2022-05-31 06:30:00',\n",
       "               '2022-05-31 06:45:00', '2022-05-31 07:00:00',\n",
       "               '2022-05-31 07:15:00', '2022-05-31 07:30:00'],\n",
       "              dtype='datetime64[ns]', length=785841, freq='15T')"
      ]
     },
     "execution_count": 22,
     "metadata": {},
     "output_type": "execute_result"
    }
   ],
   "source": [
    "date_rng"
   ]
  },
  {
   "cell_type": "code",
   "execution_count": 23,
   "metadata": {
    "jupyter": {
     "source_hidden": true
    },
    "tags": []
   },
   "outputs": [],
   "source": [
    "# quality_check.reset_index(inplace=True)"
   ]
  },
  {
   "cell_type": "code",
   "execution_count": 24,
   "metadata": {},
   "outputs": [
    {
     "data": {
      "text/html": [
       "<div>\n",
       "<style scoped>\n",
       "    .dataframe tbody tr th:only-of-type {\n",
       "        vertical-align: middle;\n",
       "    }\n",
       "\n",
       "    .dataframe tbody tr th {\n",
       "        vertical-align: top;\n",
       "    }\n",
       "\n",
       "    .dataframe thead th {\n",
       "        text-align: right;\n",
       "    }\n",
       "</style>\n",
       "<table border=\"1\" class=\"dataframe\">\n",
       "  <thead>\n",
       "    <tr style=\"text-align: right;\">\n",
       "      <th></th>\n",
       "      <th>Value</th>\n",
       "      <th>Quality</th>\n",
       "    </tr>\n",
       "    <tr>\n",
       "      <th>Datetime</th>\n",
       "      <th></th>\n",
       "      <th></th>\n",
       "    </tr>\n",
       "  </thead>\n",
       "  <tbody>\n",
       "    <tr>\n",
       "      <th>2004-08-17 11:30:00</th>\n",
       "      <td>955.9</td>\n",
       "      <td>1.0</td>\n",
       "    </tr>\n",
       "    <tr>\n",
       "      <th>2004-08-17 11:45:00</th>\n",
       "      <td>956.1</td>\n",
       "      <td>1.0</td>\n",
       "    </tr>\n",
       "    <tr>\n",
       "      <th>2004-08-17 12:00:00</th>\n",
       "      <td>956.1</td>\n",
       "      <td>1.0</td>\n",
       "    </tr>\n",
       "    <tr>\n",
       "      <th>2004-08-17 12:15:00</th>\n",
       "      <td>956.1</td>\n",
       "      <td>1.0</td>\n",
       "    </tr>\n",
       "    <tr>\n",
       "      <th>2004-08-17 12:30:00</th>\n",
       "      <td>955.9</td>\n",
       "      <td>1.0</td>\n",
       "    </tr>\n",
       "  </tbody>\n",
       "</table>\n",
       "</div>"
      ],
      "text/plain": [
       "                     Value  Quality\n",
       "Datetime                           \n",
       "2004-08-17 11:30:00  955.9      1.0\n",
       "2004-08-17 11:45:00  956.1      1.0\n",
       "2004-08-17 12:00:00  956.1      1.0\n",
       "2004-08-17 12:15:00  956.1      1.0\n",
       "2004-08-17 12:30:00  955.9      1.0"
      ]
     },
     "execution_count": 24,
     "metadata": {},
     "output_type": "execute_result"
    }
   ],
   "source": [
    "# set the column time as the index of the dataframe\n",
    "quality_check.set_index('Datetime', inplace=True)\n",
    "quality_check.head()"
   ]
  },
  {
   "cell_type": "markdown",
   "metadata": {
    "tags": []
   },
   "source": [
    "## Join the dataframe with correct timeseries `df_dates` and the dataframe with corrected data `quality_check` with the function `pd.join()`"
   ]
  },
  {
   "cell_type": "code",
   "execution_count": 25,
   "metadata": {},
   "outputs": [],
   "source": [
    "df_dates = pd.DataFrame({'Time': date_rng})\n",
    "df_dates.set_index('Time',inplace=True)\n"
   ]
  },
  {
   "cell_type": "code",
   "execution_count": 26,
   "metadata": {},
   "outputs": [
    {
     "data": {
      "text/html": [
       "<div>\n",
       "<style scoped>\n",
       "    .dataframe tbody tr th:only-of-type {\n",
       "        vertical-align: middle;\n",
       "    }\n",
       "\n",
       "    .dataframe tbody tr th {\n",
       "        vertical-align: top;\n",
       "    }\n",
       "\n",
       "    .dataframe thead th {\n",
       "        text-align: right;\n",
       "    }\n",
       "</style>\n",
       "<table border=\"1\" class=\"dataframe\">\n",
       "  <thead>\n",
       "    <tr style=\"text-align: right;\">\n",
       "      <th></th>\n",
       "      <th>Value</th>\n",
       "      <th>Quality</th>\n",
       "    </tr>\n",
       "  </thead>\n",
       "  <tbody>\n",
       "    <tr>\n",
       "      <th>2000-01-01 11:30:00</th>\n",
       "      <td>NaN</td>\n",
       "      <td>NaN</td>\n",
       "    </tr>\n",
       "    <tr>\n",
       "      <th>2000-01-01 11:45:00</th>\n",
       "      <td>NaN</td>\n",
       "      <td>NaN</td>\n",
       "    </tr>\n",
       "    <tr>\n",
       "      <th>2000-01-01 12:00:00</th>\n",
       "      <td>NaN</td>\n",
       "      <td>NaN</td>\n",
       "    </tr>\n",
       "    <tr>\n",
       "      <th>2000-01-01 12:15:00</th>\n",
       "      <td>NaN</td>\n",
       "      <td>NaN</td>\n",
       "    </tr>\n",
       "    <tr>\n",
       "      <th>2000-01-01 12:30:00</th>\n",
       "      <td>NaN</td>\n",
       "      <td>NaN</td>\n",
       "    </tr>\n",
       "    <tr>\n",
       "      <th>2000-01-01 12:45:00</th>\n",
       "      <td>NaN</td>\n",
       "      <td>NaN</td>\n",
       "    </tr>\n",
       "    <tr>\n",
       "      <th>2000-01-01 13:00:00</th>\n",
       "      <td>NaN</td>\n",
       "      <td>NaN</td>\n",
       "    </tr>\n",
       "    <tr>\n",
       "      <th>2000-01-01 13:15:00</th>\n",
       "      <td>NaN</td>\n",
       "      <td>NaN</td>\n",
       "    </tr>\n",
       "    <tr>\n",
       "      <th>2000-01-01 13:30:00</th>\n",
       "      <td>NaN</td>\n",
       "      <td>NaN</td>\n",
       "    </tr>\n",
       "    <tr>\n",
       "      <th>2000-01-01 13:45:00</th>\n",
       "      <td>NaN</td>\n",
       "      <td>NaN</td>\n",
       "    </tr>\n",
       "    <tr>\n",
       "      <th>2000-01-01 14:00:00</th>\n",
       "      <td>NaN</td>\n",
       "      <td>NaN</td>\n",
       "    </tr>\n",
       "    <tr>\n",
       "      <th>2000-01-01 14:15:00</th>\n",
       "      <td>NaN</td>\n",
       "      <td>NaN</td>\n",
       "    </tr>\n",
       "    <tr>\n",
       "      <th>2000-01-01 14:30:00</th>\n",
       "      <td>NaN</td>\n",
       "      <td>NaN</td>\n",
       "    </tr>\n",
       "    <tr>\n",
       "      <th>2000-01-01 14:45:00</th>\n",
       "      <td>NaN</td>\n",
       "      <td>NaN</td>\n",
       "    </tr>\n",
       "    <tr>\n",
       "      <th>2000-01-01 15:00:00</th>\n",
       "      <td>NaN</td>\n",
       "      <td>NaN</td>\n",
       "    </tr>\n",
       "  </tbody>\n",
       "</table>\n",
       "</div>"
      ],
      "text/plain": [
       "                     Value  Quality\n",
       "2000-01-01 11:30:00    NaN      NaN\n",
       "2000-01-01 11:45:00    NaN      NaN\n",
       "2000-01-01 12:00:00    NaN      NaN\n",
       "2000-01-01 12:15:00    NaN      NaN\n",
       "2000-01-01 12:30:00    NaN      NaN\n",
       "2000-01-01 12:45:00    NaN      NaN\n",
       "2000-01-01 13:00:00    NaN      NaN\n",
       "2000-01-01 13:15:00    NaN      NaN\n",
       "2000-01-01 13:30:00    NaN      NaN\n",
       "2000-01-01 13:45:00    NaN      NaN\n",
       "2000-01-01 14:00:00    NaN      NaN\n",
       "2000-01-01 14:15:00    NaN      NaN\n",
       "2000-01-01 14:30:00    NaN      NaN\n",
       "2000-01-01 14:45:00    NaN      NaN\n",
       "2000-01-01 15:00:00    NaN      NaN"
      ]
     },
     "execution_count": 26,
     "metadata": {},
     "output_type": "execute_result"
    }
   ],
   "source": [
    "df_dates = df_dates.join(quality_check, how='outer')\n",
    "df_dates.head(15)"
   ]
  },
  {
   "cell_type": "code",
   "execution_count": 27,
   "metadata": {},
   "outputs": [
    {
     "data": {
      "text/html": [
       "<div>\n",
       "<style scoped>\n",
       "    .dataframe tbody tr th:only-of-type {\n",
       "        vertical-align: middle;\n",
       "    }\n",
       "\n",
       "    .dataframe tbody tr th {\n",
       "        vertical-align: top;\n",
       "    }\n",
       "\n",
       "    .dataframe thead th {\n",
       "        text-align: right;\n",
       "    }\n",
       "</style>\n",
       "<table border=\"1\" class=\"dataframe\">\n",
       "  <thead>\n",
       "    <tr style=\"text-align: right;\">\n",
       "      <th></th>\n",
       "      <th>Value</th>\n",
       "      <th>Quality</th>\n",
       "    </tr>\n",
       "  </thead>\n",
       "  <tbody>\n",
       "    <tr>\n",
       "      <th>2022-05-31 06:30:00</th>\n",
       "      <td>NaN</td>\n",
       "      <td>145.0</td>\n",
       "    </tr>\n",
       "    <tr>\n",
       "      <th>2022-05-31 06:45:00</th>\n",
       "      <td>NaN</td>\n",
       "      <td>145.0</td>\n",
       "    </tr>\n",
       "    <tr>\n",
       "      <th>2022-05-31 07:00:00</th>\n",
       "      <td>NaN</td>\n",
       "      <td>145.0</td>\n",
       "    </tr>\n",
       "    <tr>\n",
       "      <th>2022-05-31 07:15:00</th>\n",
       "      <td>NaN</td>\n",
       "      <td>145.0</td>\n",
       "    </tr>\n",
       "    <tr>\n",
       "      <th>2022-05-31 07:30:00</th>\n",
       "      <td>NaN</td>\n",
       "      <td>145.0</td>\n",
       "    </tr>\n",
       "  </tbody>\n",
       "</table>\n",
       "</div>"
      ],
      "text/plain": [
       "                     Value  Quality\n",
       "2022-05-31 06:30:00    NaN    145.0\n",
       "2022-05-31 06:45:00    NaN    145.0\n",
       "2022-05-31 07:00:00    NaN    145.0\n",
       "2022-05-31 07:15:00    NaN    145.0\n",
       "2022-05-31 07:30:00    NaN    145.0"
      ]
     },
     "execution_count": 27,
     "metadata": {},
     "output_type": "execute_result"
    }
   ],
   "source": [
    "df_dates.tail()"
   ]
  },
  {
   "cell_type": "markdown",
   "metadata": {},
   "source": [
    "Control the cumulate of raw data and corrected one"
   ]
  },
  {
   "cell_type": "code",
   "execution_count": 28,
   "metadata": {},
   "outputs": [],
   "source": [
    "if raw_data['Value'].sum()-df_dates['Value'][df_dates['Value']>0.0].sum()<10e-10:\n",
    "    print('OK')"
   ]
  },
  {
   "cell_type": "code",
   "execution_count": 29,
   "metadata": {},
   "outputs": [],
   "source": [
    "#df_dates.loc['2004-8-18 13:00']"
   ]
  },
  {
   "cell_type": "code",
   "execution_count": 30,
   "metadata": {},
   "outputs": [
    {
     "data": {
      "text/plain": [
       "DatetimeIndex(['2000-01-01 11:30:00', '2000-01-01 11:45:00',\n",
       "               '2000-01-01 12:00:00', '2000-01-01 12:15:00',\n",
       "               '2000-01-01 12:30:00', '2000-01-01 12:45:00',\n",
       "               '2000-01-01 13:00:00', '2000-01-01 13:15:00',\n",
       "               '2000-01-01 13:30:00', '2000-01-01 13:45:00',\n",
       "               ...\n",
       "               '2022-05-31 05:15:00', '2022-05-31 05:30:00',\n",
       "               '2022-05-31 05:45:00', '2022-05-31 06:00:00',\n",
       "               '2022-05-31 06:15:00', '2022-05-31 06:30:00',\n",
       "               '2022-05-31 06:45:00', '2022-05-31 07:00:00',\n",
       "               '2022-05-31 07:15:00', '2022-05-31 07:30:00'],\n",
       "              dtype='datetime64[ns]', length=858129, freq=None)"
      ]
     },
     "execution_count": 30,
     "metadata": {},
     "output_type": "execute_result"
    }
   ],
   "source": [
    "df_dates.index"
   ]
  },
  {
   "cell_type": "markdown",
   "metadata": {},
   "source": [
    "## *Si può vedere il grafico dei dati*"
   ]
  },
  {
   "cell_type": "code",
   "execution_count": 31,
   "metadata": {},
   "outputs": [
    {
     "data": {
      "text/plain": [
       "'\\nfig = go.Figure()\\nfig.add_trace(go.Scatter(x=df_dates.index, y=df_dates[\\'Value\\'], name=\"[unit]\",\\n                         line_color=\\'deepskyblue\\'))\\n# fig.add_trace(go.Scatter(x=df.Date, y=df[\\'AAPL.Low\\'], name=\"AAPL Low\",\\n#                          line_color=\\'dimgray\\'))\\n\\nfig.update_layout(title_text=\\'Station Levico\\',\\n                  xaxis_rangeslider_visible=True)\\nfig.show()\\n'"
      ]
     },
     "execution_count": 31,
     "metadata": {},
     "output_type": "execute_result"
    }
   ],
   "source": [
    "'''\n",
    "fig = go.Figure()\n",
    "fig.add_trace(go.Scatter(x=df_dates.index, y=df_dates['Value'], name=\"[unit]\",\n",
    "                         line_color='deepskyblue'))\n",
    "# fig.add_trace(go.Scatter(x=df.Date, y=df['AAPL.Low'], name=\"AAPL Low\",\n",
    "#                          line_color='dimgray'))\n",
    "\n",
    "fig.update_layout(title_text='Station Levico',\n",
    "                  xaxis_rangeslider_visible=True)\n",
    "fig.show()\n",
    "'''"
   ]
  },
  {
   "cell_type": "markdown",
   "metadata": {
    "tags": []
   },
   "source": [
    "Change header `Value` with the code of the meteo station, and set NaN to -9999"
   ]
  },
  {
   "cell_type": "code",
   "execution_count": 32,
   "metadata": {},
   "outputs": [],
   "source": [
    "#df_dates['Value']=df_dates['Value']/3.6 #CONVERSIONE kJ/m2 TO W/m2 SOLO PER RADIAZIONE SOLE"
   ]
  },
  {
   "cell_type": "code",
   "execution_count": 33,
   "metadata": {},
   "outputs": [
    {
     "data": {
      "text/html": [
       "<div>\n",
       "<style scoped>\n",
       "    .dataframe tbody tr th:only-of-type {\n",
       "        vertical-align: middle;\n",
       "    }\n",
       "\n",
       "    .dataframe tbody tr th {\n",
       "        vertical-align: top;\n",
       "    }\n",
       "\n",
       "    .dataframe thead th {\n",
       "        text-align: right;\n",
       "    }\n",
       "</style>\n",
       "<table border=\"1\" class=\"dataframe\">\n",
       "  <thead>\n",
       "    <tr style=\"text-align: right;\">\n",
       "      <th></th>\n",
       "      <th>1</th>\n",
       "      <th>Quality</th>\n",
       "    </tr>\n",
       "  </thead>\n",
       "  <tbody>\n",
       "    <tr>\n",
       "      <th>2000-01-01 11:30:00</th>\n",
       "      <td>-9999</td>\n",
       "      <td>-9999</td>\n",
       "    </tr>\n",
       "    <tr>\n",
       "      <th>2000-01-01 11:45:00</th>\n",
       "      <td>-9999</td>\n",
       "      <td>-9999</td>\n",
       "    </tr>\n",
       "    <tr>\n",
       "      <th>2000-01-01 12:00:00</th>\n",
       "      <td>-9999</td>\n",
       "      <td>-9999</td>\n",
       "    </tr>\n",
       "    <tr>\n",
       "      <th>2000-01-01 12:15:00</th>\n",
       "      <td>-9999</td>\n",
       "      <td>-9999</td>\n",
       "    </tr>\n",
       "    <tr>\n",
       "      <th>2000-01-01 12:30:00</th>\n",
       "      <td>-9999</td>\n",
       "      <td>-9999</td>\n",
       "    </tr>\n",
       "  </tbody>\n",
       "</table>\n",
       "</div>"
      ],
      "text/plain": [
       "                         1 Quality\n",
       "2000-01-01 11:30:00  -9999   -9999\n",
       "2000-01-01 11:45:00  -9999   -9999\n",
       "2000-01-01 12:00:00  -9999   -9999\n",
       "2000-01-01 12:15:00  -9999   -9999\n",
       "2000-01-01 12:30:00  -9999   -9999"
      ]
     },
     "execution_count": 33,
     "metadata": {},
     "output_type": "execute_result"
    }
   ],
   "source": [
    "df_correct = df_dates.replace(np.nan,'-9999')\n",
    "df_correct.rename(columns={\"Value\": \"1\"}, inplace=True)\n",
    "df_correct.head()"
   ]
  },
  {
   "cell_type": "code",
   "execution_count": 34,
   "metadata": {},
   "outputs": [
    {
     "data": {
      "text/html": [
       "<div>\n",
       "<style scoped>\n",
       "    .dataframe tbody tr th:only-of-type {\n",
       "        vertical-align: middle;\n",
       "    }\n",
       "\n",
       "    .dataframe tbody tr th {\n",
       "        vertical-align: top;\n",
       "    }\n",
       "\n",
       "    .dataframe thead th {\n",
       "        text-align: right;\n",
       "    }\n",
       "</style>\n",
       "<table border=\"1\" class=\"dataframe\">\n",
       "  <thead>\n",
       "    <tr style=\"text-align: right;\">\n",
       "      <th></th>\n",
       "      <th>1</th>\n",
       "      <th>Quality</th>\n",
       "    </tr>\n",
       "  </thead>\n",
       "  <tbody>\n",
       "    <tr>\n",
       "      <th>2022-05-31 06:30:00</th>\n",
       "      <td>-9999</td>\n",
       "      <td>145.0</td>\n",
       "    </tr>\n",
       "    <tr>\n",
       "      <th>2022-05-31 06:45:00</th>\n",
       "      <td>-9999</td>\n",
       "      <td>145.0</td>\n",
       "    </tr>\n",
       "    <tr>\n",
       "      <th>2022-05-31 07:00:00</th>\n",
       "      <td>-9999</td>\n",
       "      <td>145.0</td>\n",
       "    </tr>\n",
       "    <tr>\n",
       "      <th>2022-05-31 07:15:00</th>\n",
       "      <td>-9999</td>\n",
       "      <td>145.0</td>\n",
       "    </tr>\n",
       "    <tr>\n",
       "      <th>2022-05-31 07:30:00</th>\n",
       "      <td>-9999</td>\n",
       "      <td>145.0</td>\n",
       "    </tr>\n",
       "  </tbody>\n",
       "</table>\n",
       "</div>"
      ],
      "text/plain": [
       "                         1 Quality\n",
       "2022-05-31 06:30:00  -9999   145.0\n",
       "2022-05-31 06:45:00  -9999   145.0\n",
       "2022-05-31 07:00:00  -9999   145.0\n",
       "2022-05-31 07:15:00  -9999   145.0\n",
       "2022-05-31 07:30:00  -9999   145.0"
      ]
     },
     "execution_count": 34,
     "metadata": {},
     "output_type": "execute_result"
    }
   ],
   "source": [
    "df_correct.tail()"
   ]
  },
  {
   "cell_type": "markdown",
   "metadata": {
    "tags": []
   },
   "source": [
    "#### **FACCIO A MENO DI SALVARE QUESTO FILE INUTILE**"
   ]
  },
  {
   "cell_type": "code",
   "execution_count": 35,
   "metadata": {
    "tags": []
   },
   "outputs": [],
   "source": [
    "#df_correct.to_csv('C:\\\\Users\\\\super\\\\OMS_Project_GEOET11\\\\OMS_Project_GEOET11\\\\data\\\\Levico\\\\Temp_Levico_checked.csv', columns=['1'])"
   ]
  },
  {
   "cell_type": "markdown",
   "metadata": {
    "tags": []
   },
   "source": [
    "Google: _dataframe save csv specifying path_\n",
    "\n",
    "https://stackoverflow.com/questions/22872952/set-file-path-for-to-csv-in-pandas"
   ]
  },
  {
   "cell_type": "code",
   "execution_count": 36,
   "metadata": {
    "tags": []
   },
   "outputs": [],
   "source": [
    "#break"
   ]
  },
  {
   "cell_type": "markdown",
   "metadata": {},
   "source": [
    "# Resample the timeseries !!\n",
    "\n",
    "When resampling it is possible to use two different functions\n",
    "- `sum`\n",
    "- `mean`\n",
    "\n",
    "For precipitation we cumulate hence we use `sum`, but for temperature and discharge? use *mean*"
   ]
  },
  {
   "cell_type": "code",
   "execution_count": 37,
   "metadata": {},
   "outputs": [
    {
     "data": {
      "text/html": [
       "<div>\n",
       "<style scoped>\n",
       "    .dataframe tbody tr th:only-of-type {\n",
       "        vertical-align: middle;\n",
       "    }\n",
       "\n",
       "    .dataframe tbody tr th {\n",
       "        vertical-align: top;\n",
       "    }\n",
       "\n",
       "    .dataframe thead th {\n",
       "        text-align: right;\n",
       "    }\n",
       "</style>\n",
       "<table border=\"1\" class=\"dataframe\">\n",
       "  <thead>\n",
       "    <tr style=\"text-align: right;\">\n",
       "      <th></th>\n",
       "      <th>Value</th>\n",
       "      <th>Quality</th>\n",
       "    </tr>\n",
       "    <tr>\n",
       "      <th>Datetime</th>\n",
       "      <th></th>\n",
       "      <th></th>\n",
       "    </tr>\n",
       "  </thead>\n",
       "  <tbody>\n",
       "    <tr>\n",
       "      <th>2004-08-17 11:00:00</th>\n",
       "      <td>956.000000</td>\n",
       "      <td>1.0</td>\n",
       "    </tr>\n",
       "    <tr>\n",
       "      <th>2004-08-17 12:00:00</th>\n",
       "      <td>955.950000</td>\n",
       "      <td>1.0</td>\n",
       "    </tr>\n",
       "    <tr>\n",
       "      <th>2004-08-17 13:00:00</th>\n",
       "      <td>955.650000</td>\n",
       "      <td>1.0</td>\n",
       "    </tr>\n",
       "    <tr>\n",
       "      <th>2004-08-17 14:00:00</th>\n",
       "      <td>955.200000</td>\n",
       "      <td>1.0</td>\n",
       "    </tr>\n",
       "    <tr>\n",
       "      <th>2004-08-17 15:00:00</th>\n",
       "      <td>955.133333</td>\n",
       "      <td>1.0</td>\n",
       "    </tr>\n",
       "  </tbody>\n",
       "</table>\n",
       "</div>"
      ],
      "text/plain": [
       "                          Value  Quality\n",
       "Datetime                                \n",
       "2004-08-17 11:00:00  956.000000      1.0\n",
       "2004-08-17 12:00:00  955.950000      1.0\n",
       "2004-08-17 13:00:00  955.650000      1.0\n",
       "2004-08-17 14:00:00  955.200000      1.0\n",
       "2004-08-17 15:00:00  955.133333      1.0"
      ]
     },
     "execution_count": 37,
     "metadata": {},
     "output_type": "execute_result"
    }
   ],
   "source": [
    "df_hourly = quality_check.resample('1H').mean() #sum(min_count=1)\n",
    "df_hourly.head()"
   ]
  },
  {
   "cell_type": "markdown",
   "metadata": {},
   "source": [
    "## *Si crea la Serie Temporale con data iniziale e finale che voglio*"
   ]
  },
  {
   "cell_type": "code",
   "execution_count": 39,
   "metadata": {},
   "outputs": [],
   "source": [
    "#Replace initial date and end date, considering also the frequency (H=hour)\n",
    "date_rng=pd.date_range(start='2000-01-01 11:00',end='2022-05-31 07:30',freq='1H') "
   ]
  },
  {
   "cell_type": "code",
   "execution_count": 40,
   "metadata": {},
   "outputs": [],
   "source": [
    "df_dates = pd.DataFrame({'Time': date_rng})\n",
    "df_dates.set_index('Time',inplace=True)"
   ]
  },
  {
   "cell_type": "code",
   "execution_count": 41,
   "metadata": {},
   "outputs": [
    {
     "data": {
      "text/html": [
       "<div>\n",
       "<style scoped>\n",
       "    .dataframe tbody tr th:only-of-type {\n",
       "        vertical-align: middle;\n",
       "    }\n",
       "\n",
       "    .dataframe tbody tr th {\n",
       "        vertical-align: top;\n",
       "    }\n",
       "\n",
       "    .dataframe thead th {\n",
       "        text-align: right;\n",
       "    }\n",
       "</style>\n",
       "<table border=\"1\" class=\"dataframe\">\n",
       "  <thead>\n",
       "    <tr style=\"text-align: right;\">\n",
       "      <th></th>\n",
       "      <th>Value</th>\n",
       "      <th>Quality</th>\n",
       "    </tr>\n",
       "  </thead>\n",
       "  <tbody>\n",
       "    <tr>\n",
       "      <th>2000-01-01 11:00:00</th>\n",
       "      <td>NaN</td>\n",
       "      <td>NaN</td>\n",
       "    </tr>\n",
       "    <tr>\n",
       "      <th>2000-01-01 12:00:00</th>\n",
       "      <td>NaN</td>\n",
       "      <td>NaN</td>\n",
       "    </tr>\n",
       "    <tr>\n",
       "      <th>2000-01-01 13:00:00</th>\n",
       "      <td>NaN</td>\n",
       "      <td>NaN</td>\n",
       "    </tr>\n",
       "    <tr>\n",
       "      <th>2000-01-01 14:00:00</th>\n",
       "      <td>NaN</td>\n",
       "      <td>NaN</td>\n",
       "    </tr>\n",
       "    <tr>\n",
       "      <th>2000-01-01 15:00:00</th>\n",
       "      <td>NaN</td>\n",
       "      <td>NaN</td>\n",
       "    </tr>\n",
       "  </tbody>\n",
       "</table>\n",
       "</div>"
      ],
      "text/plain": [
       "                     Value  Quality\n",
       "2000-01-01 11:00:00    NaN      NaN\n",
       "2000-01-01 12:00:00    NaN      NaN\n",
       "2000-01-01 13:00:00    NaN      NaN\n",
       "2000-01-01 14:00:00    NaN      NaN\n",
       "2000-01-01 15:00:00    NaN      NaN"
      ]
     },
     "execution_count": 41,
     "metadata": {},
     "output_type": "execute_result"
    }
   ],
   "source": [
    "df_dates = df_dates.join(df_hourly, how='outer')\n",
    "df_dates.head()"
   ]
  },
  {
   "cell_type": "markdown",
   "metadata": {},
   "source": [
    "## Conversione unità di Misura in Pascal **SOLO PER PRESSIONE**"
   ]
  },
  {
   "cell_type": "code",
   "execution_count": 42,
   "metadata": {},
   "outputs": [],
   "source": [
    "df_dates['Value']=df_dates['Value']*100"
   ]
  },
  {
   "cell_type": "markdown",
   "metadata": {},
   "source": [
    "### Conversione unità di Misura in Watts **SOLO PER RADIAZIONE!**"
   ]
  },
  {
   "cell_type": "code",
   "execution_count": 43,
   "metadata": {},
   "outputs": [],
   "source": [
    "#df_dates['Value']=df_dates['Value']/3.6"
   ]
  },
  {
   "cell_type": "markdown",
   "metadata": {},
   "source": [
    "## Sostituisce i valori *nan* con *-9999*"
   ]
  },
  {
   "cell_type": "code",
   "execution_count": 44,
   "metadata": {},
   "outputs": [
    {
     "data": {
      "text/html": [
       "<div>\n",
       "<style scoped>\n",
       "    .dataframe tbody tr th:only-of-type {\n",
       "        vertical-align: middle;\n",
       "    }\n",
       "\n",
       "    .dataframe tbody tr th {\n",
       "        vertical-align: top;\n",
       "    }\n",
       "\n",
       "    .dataframe thead th {\n",
       "        text-align: right;\n",
       "    }\n",
       "</style>\n",
       "<table border=\"1\" class=\"dataframe\">\n",
       "  <thead>\n",
       "    <tr style=\"text-align: right;\">\n",
       "      <th></th>\n",
       "      <th>1</th>\n",
       "      <th>Quality</th>\n",
       "    </tr>\n",
       "  </thead>\n",
       "  <tbody>\n",
       "    <tr>\n",
       "      <th>2000-01-01 11:00:00</th>\n",
       "      <td>-9999</td>\n",
       "      <td>-9999</td>\n",
       "    </tr>\n",
       "    <tr>\n",
       "      <th>2000-01-01 12:00:00</th>\n",
       "      <td>-9999</td>\n",
       "      <td>-9999</td>\n",
       "    </tr>\n",
       "    <tr>\n",
       "      <th>2000-01-01 13:00:00</th>\n",
       "      <td>-9999</td>\n",
       "      <td>-9999</td>\n",
       "    </tr>\n",
       "    <tr>\n",
       "      <th>2000-01-01 14:00:00</th>\n",
       "      <td>-9999</td>\n",
       "      <td>-9999</td>\n",
       "    </tr>\n",
       "    <tr>\n",
       "      <th>2000-01-01 15:00:00</th>\n",
       "      <td>-9999</td>\n",
       "      <td>-9999</td>\n",
       "    </tr>\n",
       "  </tbody>\n",
       "</table>\n",
       "</div>"
      ],
      "text/plain": [
       "                         1 Quality\n",
       "2000-01-01 11:00:00  -9999   -9999\n",
       "2000-01-01 12:00:00  -9999   -9999\n",
       "2000-01-01 13:00:00  -9999   -9999\n",
       "2000-01-01 14:00:00  -9999   -9999\n",
       "2000-01-01 15:00:00  -9999   -9999"
      ]
     },
     "execution_count": 44,
     "metadata": {},
     "output_type": "execute_result"
    }
   ],
   "source": [
    "df_correct = df_dates.replace(np.nan,'-9999')\n",
    "df_correct.rename(columns={\"Value\": \"1\"}, inplace=True)\n",
    "df_correct.head()"
   ]
  },
  {
   "cell_type": "code",
   "execution_count": 45,
   "metadata": {},
   "outputs": [
    {
     "data": {
      "text/html": [
       "<div>\n",
       "<style scoped>\n",
       "    .dataframe tbody tr th:only-of-type {\n",
       "        vertical-align: middle;\n",
       "    }\n",
       "\n",
       "    .dataframe tbody tr th {\n",
       "        vertical-align: top;\n",
       "    }\n",
       "\n",
       "    .dataframe thead th {\n",
       "        text-align: right;\n",
       "    }\n",
       "</style>\n",
       "<table border=\"1\" class=\"dataframe\">\n",
       "  <thead>\n",
       "    <tr style=\"text-align: right;\">\n",
       "      <th></th>\n",
       "      <th>1</th>\n",
       "      <th>Quality</th>\n",
       "    </tr>\n",
       "  </thead>\n",
       "  <tbody>\n",
       "    <tr>\n",
       "      <th>2022-05-31 03:00:00</th>\n",
       "      <td>-9999</td>\n",
       "      <td>145.0</td>\n",
       "    </tr>\n",
       "    <tr>\n",
       "      <th>2022-05-31 04:00:00</th>\n",
       "      <td>-9999</td>\n",
       "      <td>145.0</td>\n",
       "    </tr>\n",
       "    <tr>\n",
       "      <th>2022-05-31 05:00:00</th>\n",
       "      <td>-9999</td>\n",
       "      <td>145.0</td>\n",
       "    </tr>\n",
       "    <tr>\n",
       "      <th>2022-05-31 06:00:00</th>\n",
       "      <td>-9999</td>\n",
       "      <td>145.0</td>\n",
       "    </tr>\n",
       "    <tr>\n",
       "      <th>2022-05-31 07:00:00</th>\n",
       "      <td>-9999</td>\n",
       "      <td>145.0</td>\n",
       "    </tr>\n",
       "  </tbody>\n",
       "</table>\n",
       "</div>"
      ],
      "text/plain": [
       "                         1 Quality\n",
       "2022-05-31 03:00:00  -9999   145.0\n",
       "2022-05-31 04:00:00  -9999   145.0\n",
       "2022-05-31 05:00:00  -9999   145.0\n",
       "2022-05-31 06:00:00  -9999   145.0\n",
       "2022-05-31 07:00:00  -9999   145.0"
      ]
     },
     "execution_count": 45,
     "metadata": {},
     "output_type": "execute_result"
    }
   ],
   "source": [
    "df_correct.tail()"
   ]
  },
  {
   "cell_type": "code",
   "execution_count": 46,
   "metadata": {},
   "outputs": [],
   "source": [
    "df_correct.to_csv(oms_project_path+'\\\\data\\\\Levico\\\\DATASS_Levico_1H.csv', columns=['1'])"
   ]
  },
  {
   "cell_type": "markdown",
   "metadata": {},
   "source": [
    "TIPS:\n",
    "- create a folder for precipitation, temperature, discharge\n",
    "- for each variable, i.e. in each folder, create these subfolders: `Raw_data`, `Checked_data`, `Hourly_data`\n",
    "    in `Raw_data` you collect all the files that you have downloaded, in `Checked_data` the checked time series (values, and complete dates), in `Hourly_data` the resampled time series\n",
    "- rewrite this notebook as function, what do you have to modify to resample temperature and discharge data?\n",
    "- use the command `for file in sorted(glob.glob('%s/*.csv' % inputFolder)):` to loop over the files within a folder\n"
   ]
  },
  {
   "cell_type": "markdown",
   "metadata": {},
   "source": [
    "## Ho to write the time series for OMS"
   ]
  },
  {
   "cell_type": "markdown",
   "metadata": {},
   "source": [
    "OMS time series has to be formatted as:"
   ]
  },
  {
   "cell_type": "code",
   "execution_count": 47,
   "metadata": {},
   "outputs": [],
   "source": [
    "#Image(filename=work_directory_path+'/OMS_time_series.png',width=800, height=400)"
   ]
  },
  {
   "cell_type": "markdown",
   "metadata": {},
   "source": [
    "Once you have prepared all your resampled data, create a unique dataframe for precipitation, temperature. This dataframe has to be formatted as: the first column you have your dates, in the following columns your station. The header of these columns must be the code of the station, the same that you use in the shapefile containing the meteo stations. Save this file as a .csv. This file can be processed with the function `gf_io.write_OMS_timeseries` to get the data formatted for OMS.\n",
    "\n",
    "TIPS: write a simple script that loop over the file in `Precipitation/Hourly_data` and create a unique dataframe using the the method `pd.concat()` save this as `Hourly_data_no_formatted.csv`. The dataframe must have as index the dates as datatime.\n",
    "\n",
    "More on `merge`, `concat` and `join` at\n",
    "https://pandas.pydata.org/pandas-docs/stable/user_guide/merging.html"
   ]
  },
  {
   "cell_type": "code",
   "execution_count": 48,
   "metadata": {},
   "outputs": [
    {
     "data": {
      "text/plain": [
       "'\\ndf1 = pd.read_csv(\\'C:\\\\Users\\\\super\\\\OMS_Project_GEOET11\\\\OMS_Project_GEOET11\\\\data\\\\Levico\\\\Temp_Levico_1H.csv\\', low_memory=False)\\ndf1.rename(columns={ df1.columns[0]: \"Datetime\" }, inplace = True)\\ndf1[\\'Datetime\\'] = pd.to_datetime(df1[\\'Datetime\\'],dayfirst=True)\\ndf1.set_index(\\'Datetime\\', inplace=True)\\n# df1.head()\\n'"
      ]
     },
     "execution_count": 48,
     "metadata": {},
     "output_type": "execute_result"
    }
   ],
   "source": [
    "'''\n",
    "df1 = pd.read_csv('C:\\\\Users\\\\super\\\\OMS_Project_GEOET11\\\\OMS_Project_GEOET11\\\\data\\\\Levico\\\\Temp_Levico_1H.csv', low_memory=False)\n",
    "df1.rename(columns={ df1.columns[0]: \"Datetime\" }, inplace = True)\n",
    "df1['Datetime'] = pd.to_datetime(df1['Datetime'],dayfirst=True)\n",
    "df1.set_index('Datetime', inplace=True)\n",
    "# df1.head()\n",
    "'''"
   ]
  },
  {
   "cell_type": "markdown",
   "metadata": {},
   "source": [
    "### **CAMBIA NOME AL FILE!**"
   ]
  },
  {
   "cell_type": "code",
   "execution_count": 49,
   "metadata": {},
   "outputs": [],
   "source": [
    "df2 = pd.read_csv(oms_project_path+'\\\\data\\\\Levico\\\\DATASS_Levico_1H.csv', low_memory=False)\n",
    "df2.rename(columns={ df2.columns[0]: \"Datetime\" }, inplace = True)\n",
    "df2.rename(columns={ df2.columns[1]: \"1\" }, inplace = True) # just to have a different header, this is not necessary when you will work on your data\n",
    "df2['Datetime'] = pd.to_datetime(df2['Datetime'],dayfirst=True)\n",
    "\n",
    "df2.set_index('Datetime', inplace=True)"
   ]
  },
  {
   "cell_type": "code",
   "execution_count": 50,
   "metadata": {},
   "outputs": [],
   "source": [
    "df = pd.concat([df2],axis=1)\n",
    "df.to_csv(oms_project_path+'\\\\data\\\\Levico\\\\'+filename+'_0.csv')"
   ]
  },
  {
   "cell_type": "code",
   "execution_count": 51,
   "metadata": {},
   "outputs": [
    {
     "data": {
      "text/html": [
       "<div>\n",
       "<style scoped>\n",
       "    .dataframe tbody tr th:only-of-type {\n",
       "        vertical-align: middle;\n",
       "    }\n",
       "\n",
       "    .dataframe tbody tr th {\n",
       "        vertical-align: top;\n",
       "    }\n",
       "\n",
       "    .dataframe thead th {\n",
       "        text-align: right;\n",
       "    }\n",
       "</style>\n",
       "<table border=\"1\" class=\"dataframe\">\n",
       "  <thead>\n",
       "    <tr style=\"text-align: right;\">\n",
       "      <th></th>\n",
       "      <th>1</th>\n",
       "    </tr>\n",
       "    <tr>\n",
       "      <th>Datetime</th>\n",
       "      <th></th>\n",
       "    </tr>\n",
       "  </thead>\n",
       "  <tbody>\n",
       "    <tr>\n",
       "      <th>2000-01-01 11:00:00</th>\n",
       "      <td>-9999.0</td>\n",
       "    </tr>\n",
       "    <tr>\n",
       "      <th>2000-01-01 12:00:00</th>\n",
       "      <td>-9999.0</td>\n",
       "    </tr>\n",
       "    <tr>\n",
       "      <th>2000-01-01 13:00:00</th>\n",
       "      <td>-9999.0</td>\n",
       "    </tr>\n",
       "    <tr>\n",
       "      <th>2000-01-01 14:00:00</th>\n",
       "      <td>-9999.0</td>\n",
       "    </tr>\n",
       "    <tr>\n",
       "      <th>2000-01-01 15:00:00</th>\n",
       "      <td>-9999.0</td>\n",
       "    </tr>\n",
       "    <tr>\n",
       "      <th>...</th>\n",
       "      <td>...</td>\n",
       "    </tr>\n",
       "    <tr>\n",
       "      <th>2022-05-31 03:00:00</th>\n",
       "      <td>-9999.0</td>\n",
       "    </tr>\n",
       "    <tr>\n",
       "      <th>2022-05-31 04:00:00</th>\n",
       "      <td>-9999.0</td>\n",
       "    </tr>\n",
       "    <tr>\n",
       "      <th>2022-05-31 05:00:00</th>\n",
       "      <td>-9999.0</td>\n",
       "    </tr>\n",
       "    <tr>\n",
       "      <th>2022-05-31 06:00:00</th>\n",
       "      <td>-9999.0</td>\n",
       "    </tr>\n",
       "    <tr>\n",
       "      <th>2022-05-31 07:00:00</th>\n",
       "      <td>-9999.0</td>\n",
       "    </tr>\n",
       "  </tbody>\n",
       "</table>\n",
       "<p>196461 rows × 1 columns</p>\n",
       "</div>"
      ],
      "text/plain": [
       "                          1\n",
       "Datetime                   \n",
       "2000-01-01 11:00:00 -9999.0\n",
       "2000-01-01 12:00:00 -9999.0\n",
       "2000-01-01 13:00:00 -9999.0\n",
       "2000-01-01 14:00:00 -9999.0\n",
       "2000-01-01 15:00:00 -9999.0\n",
       "...                     ...\n",
       "2022-05-31 03:00:00 -9999.0\n",
       "2022-05-31 04:00:00 -9999.0\n",
       "2022-05-31 05:00:00 -9999.0\n",
       "2022-05-31 06:00:00 -9999.0\n",
       "2022-05-31 07:00:00 -9999.0\n",
       "\n",
       "[196461 rows x 1 columns]"
      ]
     },
     "execution_count": 51,
     "metadata": {},
     "output_type": "execute_result"
    }
   ],
   "source": [
    "df"
   ]
  },
  {
   "cell_type": "code",
   "execution_count": 52,
   "metadata": {},
   "outputs": [],
   "source": [
    "from geoframepy.timeseries import io_csv"
   ]
  },
  {
   "cell_type": "code",
   "execution_count": 53,
   "metadata": {},
   "outputs": [
    {
     "data": {
      "text/html": [
       "<div>\n",
       "<style scoped>\n",
       "    .dataframe tbody tr th:only-of-type {\n",
       "        vertical-align: middle;\n",
       "    }\n",
       "\n",
       "    .dataframe tbody tr th {\n",
       "        vertical-align: top;\n",
       "    }\n",
       "\n",
       "    .dataframe thead th {\n",
       "        text-align: right;\n",
       "    }\n",
       "</style>\n",
       "<table border=\"1\" class=\"dataframe\">\n",
       "  <thead>\n",
       "    <tr style=\"text-align: right;\">\n",
       "      <th></th>\n",
       "      <th>Datetime</th>\n",
       "      <th>1</th>\n",
       "    </tr>\n",
       "  </thead>\n",
       "  <tbody>\n",
       "    <tr>\n",
       "      <th>0</th>\n",
       "      <td>2000-01-01 11:00:00</td>\n",
       "      <td>-9999.0</td>\n",
       "    </tr>\n",
       "    <tr>\n",
       "      <th>1</th>\n",
       "      <td>2000-01-01 12:00:00</td>\n",
       "      <td>-9999.0</td>\n",
       "    </tr>\n",
       "    <tr>\n",
       "      <th>2</th>\n",
       "      <td>2000-01-01 13:00:00</td>\n",
       "      <td>-9999.0</td>\n",
       "    </tr>\n",
       "    <tr>\n",
       "      <th>3</th>\n",
       "      <td>2000-01-01 14:00:00</td>\n",
       "      <td>-9999.0</td>\n",
       "    </tr>\n",
       "    <tr>\n",
       "      <th>4</th>\n",
       "      <td>2000-01-01 15:00:00</td>\n",
       "      <td>-9999.0</td>\n",
       "    </tr>\n",
       "  </tbody>\n",
       "</table>\n",
       "</div>"
      ],
      "text/plain": [
       "              Datetime       1\n",
       "0  2000-01-01 11:00:00 -9999.0\n",
       "1  2000-01-01 12:00:00 -9999.0\n",
       "2  2000-01-01 13:00:00 -9999.0\n",
       "3  2000-01-01 14:00:00 -9999.0\n",
       "4  2000-01-01 15:00:00 -9999.0"
      ]
     },
     "execution_count": 53,
     "metadata": {},
     "output_type": "execute_result"
    }
   ],
   "source": [
    "df_noformatted = pd.read_csv(oms_project_path+'\\\\data\\\\Levico\\\\'+filename+'_0.csv', low_memory = False)\n",
    "df_noformatted.head()"
   ]
  },
  {
   "cell_type": "code",
   "execution_count": 54,
   "metadata": {},
   "outputs": [
    {
     "data": {
      "text/html": [
       "<div>\n",
       "<style scoped>\n",
       "    .dataframe tbody tr th:only-of-type {\n",
       "        vertical-align: middle;\n",
       "    }\n",
       "\n",
       "    .dataframe tbody tr th {\n",
       "        vertical-align: top;\n",
       "    }\n",
       "\n",
       "    .dataframe thead th {\n",
       "        text-align: right;\n",
       "    }\n",
       "</style>\n",
       "<table border=\"1\" class=\"dataframe\">\n",
       "  <thead>\n",
       "    <tr style=\"text-align: right;\">\n",
       "      <th></th>\n",
       "      <th>Datetime</th>\n",
       "      <th>1</th>\n",
       "    </tr>\n",
       "  </thead>\n",
       "  <tbody>\n",
       "    <tr>\n",
       "      <th>196456</th>\n",
       "      <td>2022-05-31 03:00:00</td>\n",
       "      <td>-9999.0</td>\n",
       "    </tr>\n",
       "    <tr>\n",
       "      <th>196457</th>\n",
       "      <td>2022-05-31 04:00:00</td>\n",
       "      <td>-9999.0</td>\n",
       "    </tr>\n",
       "    <tr>\n",
       "      <th>196458</th>\n",
       "      <td>2022-05-31 05:00:00</td>\n",
       "      <td>-9999.0</td>\n",
       "    </tr>\n",
       "    <tr>\n",
       "      <th>196459</th>\n",
       "      <td>2022-05-31 06:00:00</td>\n",
       "      <td>-9999.0</td>\n",
       "    </tr>\n",
       "    <tr>\n",
       "      <th>196460</th>\n",
       "      <td>2022-05-31 07:00:00</td>\n",
       "      <td>-9999.0</td>\n",
       "    </tr>\n",
       "  </tbody>\n",
       "</table>\n",
       "</div>"
      ],
      "text/plain": [
       "                   Datetime       1\n",
       "196456  2022-05-31 03:00:00 -9999.0\n",
       "196457  2022-05-31 04:00:00 -9999.0\n",
       "196458  2022-05-31 05:00:00 -9999.0\n",
       "196459  2022-05-31 06:00:00 -9999.0\n",
       "196460  2022-05-31 07:00:00 -9999.0"
      ]
     },
     "execution_count": 54,
     "metadata": {},
     "output_type": "execute_result"
    }
   ],
   "source": [
    "df_noformatted.tail()"
   ]
  },
  {
   "cell_type": "code",
   "execution_count": 55,
   "metadata": {},
   "outputs": [],
   "source": [
    "#help(io_csv.write_OMS_timeseries)"
   ]
  },
  {
   "cell_type": "markdown",
   "metadata": {},
   "source": [
    "**NOTE:** `df_noformatted` must be passed without the first column. The first column is present in the database.csv to know which is the time series."
   ]
  },
  {
   "cell_type": "markdown",
   "metadata": {},
   "source": [
    "## **CAMBIA DATA INIZIO E NOME FILE!**"
   ]
  },
  {
   "cell_type": "code",
   "execution_count": 56,
   "metadata": {},
   "outputs": [
    {
     "name": "stdout",
     "output_type": "stream",
     "text": [
      "\n",
      "\n",
      "***SUCCESS writing!  C:\\Users\\super\\OMS_Project_GEOET11\\OMS_Project_GEOET11\\data\\Levico\\Pressione_Levico_0.csv\n"
     ]
    }
   ],
   "source": [
    "io_csv.write_OMS_timeseries(df_noformatted.iloc[:,1:], oms_project_path+'\\\\data\\\\Levico\\\\'+filename+'_0.csv', has_datetime=False, start_date='01-01-2000 11:00', frequency='1H')"
   ]
  },
  {
   "cell_type": "code",
   "execution_count": null,
   "metadata": {},
   "outputs": [],
   "source": []
  }
 ],
 "metadata": {
  "kernelspec": {
   "display_name": "Python 3 (ipykernel)",
   "language": "python",
   "name": "python3"
  },
  "language_info": {
   "codemirror_mode": {
    "name": "ipython",
    "version": 3
   },
   "file_extension": ".py",
   "mimetype": "text/x-python",
   "name": "python",
   "nbconvert_exporter": "python",
   "pygments_lexer": "ipython3",
   "version": "3.7.12"
  }
 },
 "nbformat": 4,
 "nbformat_minor": 4
}
