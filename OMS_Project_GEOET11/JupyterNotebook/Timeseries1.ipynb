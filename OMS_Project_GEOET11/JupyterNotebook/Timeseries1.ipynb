{
 "cells": [
  {
   "cell_type": "markdown",
   "id": "e6786d3e-a8d4-4d91-b0a5-3b2e12de0caf",
   "metadata": {},
   "source": [
    "Prima si formatta poi si crea"
   ]
  },
  {
   "cell_type": "code",
   "execution_count": null,
   "id": "3d852b49-10a1-43e0-bd70-d2eb736c5a86",
   "metadata": {},
   "outputs": [],
   "source": [
    "import os\n",
    "import numpy as np\n",
    "import pandas as pd\n",
    "import calendar\n"
   ]
  }
 ],
 "metadata": {
  "kernelspec": {
   "display_name": "Python 3 (ipykernel)",
   "language": "python",
   "name": "python3"
  },
  "language_info": {
   "codemirror_mode": {
    "name": "ipython",
    "version": 3
   },
   "file_extension": ".py",
   "mimetype": "text/x-python",
   "name": "python",
   "nbconvert_exporter": "python",
   "pygments_lexer": "ipython3",
   "version": "3.7.12"
  }
 },
 "nbformat": 4,
 "nbformat_minor": 5
}
