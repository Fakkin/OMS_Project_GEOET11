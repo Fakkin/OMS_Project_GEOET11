{
 "cells": [
  {
   "cell_type": "markdown",
   "id": "00b95358-9970-4099-a4ba-423662bce5dd",
   "metadata": {},
   "source": [
    "# Creatore Serie Temporali"
   ]
  },
  {
   "cell_type": "code",
   "execution_count": null,
   "id": "9ade4d44-49c8-4e62-aea9-82053ad96a23",
   "metadata": {},
   "outputs": [],
   "source": [
    "import os\n",
    "import numpy as np\n",
    "import pandas as pd\n",
    "import calendar\n",
    "import matplotlib.pyplot as plt\n",
    "import matplotlib.dates as mdates\n",
    "import geoframepy\n",
    "from timeseries_writer import *\n",
    "oms_project_path = os.path.dirname(os.getcwd())"
   ]
  },
  {
   "cell_type": "code",
   "execution_count": null,
   "id": "db71127c-cd85-4438-811e-c831327677d1",
   "metadata": {},
   "outputs": [],
   "source": [
    "os.chdir(oms_project_path+'\\\\data\\\\Levico')\n",
    "os.listdir()"
   ]
  },
  {
   "cell_type": "code",
   "execution_count": null,
   "id": "373d7218-a6c1-46ee-9931-ceecbb82843f",
   "metadata": {},
   "outputs": [],
   "source": [
    "df= pd.read_csv(\"Pressione_Levico.csv\", skiprows=4 , on_bad_lines='skip', low_memory=False, encoding = 'unicode_escape',names=['Datetime','Value','Quality','Metadata'])\n",
    "df.head()"
   ]
  },
  {
   "cell_type": "code",
   "execution_count": null,
   "id": "70ac4b36-ff6d-4896-b8ce-039afe7c909c",
   "metadata": {},
   "outputs": [],
   "source": [
    "#df['Datetime'] = pd.to_datetime(df['Datetime'], dayfirst=True, errors='ignore')"
   ]
  },
  {
   "cell_type": "code",
   "execution_count": null,
   "id": "0d02032b-bc25-4e37-a345-758dfe6049b4",
   "metadata": {},
   "outputs": [],
   "source": [
    "df_dates=df[['Datetime','Value']].copy()"
   ]
  },
  {
   "cell_type": "code",
   "execution_count": null,
   "id": "d426d4f8-eb85-4b23-9971-bb2300fee2ab",
   "metadata": {},
   "outputs": [],
   "source": [
    "df_dates.set_index('Datetime', inplace=True)\n",
    "df_dates.head()"
   ]
  },
  {
   "cell_type": "code",
   "execution_count": null,
   "id": "01918e26-aa3b-4a32-a0b4-10ed476b75d7",
   "metadata": {},
   "outputs": [],
   "source": []
  },
  {
   "cell_type": "code",
   "execution_count": null,
   "id": "58620271-8aca-48d4-af23-17535db61b4f",
   "metadata": {},
   "outputs": [],
   "source": [
    "df_hourly = df_dates.resample('1H').mean()\n",
    "df_hourly.head()"
   ]
  },
  {
   "cell_type": "code",
   "execution_count": null,
   "id": "cce2ce03-5f3b-4e3a-87c3-17ef2837bfa6",
   "metadata": {},
   "outputs": [],
   "source": [
    "date_rng = pd.date_range(start='1/1/2019 00:00', end='1/1/2020 00:00' , freq='1H')\n",
    "date_rng"
   ]
  },
  {
   "cell_type": "code",
   "execution_count": null,
   "id": "4ddee9a1-5fa9-4b7e-b971-613bfc255e40",
   "metadata": {},
   "outputs": [],
   "source": [
    "dfOut = pd.DataFrame(date_rng, columns=['DateTime'])\n",
    "dfOut['RadNet'] = df_dates['Value']\n",
    "#dfOut.insert(loc=0, column='-', value=np.nan)"
   ]
  },
  {
   "cell_type": "code",
   "execution_count": null,
   "id": "e99e5ee6-27f6-4882-8272-97538e6337f0",
   "metadata": {},
   "outputs": [],
   "source": [
    "dfOut"
   ]
  },
  {
   "cell_type": "code",
   "execution_count": null,
   "id": "ec6abed7-db6b-4acb-8029-32b466aa43ec",
   "metadata": {},
   "outputs": [],
   "source": [
    "df_hourly = df.resample('1H').mean()\n",
    "df_hourly.head()"
   ]
  },
  {
   "cell_type": "code",
   "execution_count": null,
   "id": "723d4c40-e693-4821-a227-2a52b0f5c91c",
   "metadata": {},
   "outputs": [],
   "source": []
  },
  {
   "cell_type": "code",
   "execution_count": null,
   "id": "074de1a9-5a19-4693-a5f6-ca93dfc83657",
   "metadata": {},
   "outputs": [],
   "source": [
    "date_rng = pd.date_range(start='1/1/2019 00:00', end='1/1/2020 00:00' , freq='1H')\n",
    "date_rng"
   ]
  },
  {
   "cell_type": "code",
   "execution_count": null,
   "id": "e49e1fe5-f17e-47e2-b48a-2768f48b35c6",
   "metadata": {},
   "outputs": [],
   "source": [
    "df.set_index('Datetime', inplace=True)\n",
    "df.head()"
   ]
  },
  {
   "cell_type": "code",
   "execution_count": null,
   "id": "5e633827-3e0c-4405-bb0e-f765d6ff2894",
   "metadata": {},
   "outputs": [],
   "source": [
    "df = df.replace(np.nan,'-9999')"
   ]
  },
  {
   "cell_type": "code",
   "execution_count": null,
   "id": "ac01bd12-7ff1-4a04-8177-cda155e9dad5",
   "metadata": {},
   "outputs": [],
   "source": [
    "dfOut = pd.DataFrame(date_rng, columns=['DateTime'])\n",
    "dfOut['RadNet'] = df['Value']\n",
    "dfOut.insert(loc=0, column='-', value=np.nan)"
   ]
  },
  {
   "cell_type": "code",
   "execution_count": null,
   "id": "6caef356-d643-42f3-820c-64ab3b042750",
   "metadata": {},
   "outputs": [],
   "source": [
    "dfOut=dfOut.drop('-',axis=1)"
   ]
  },
  {
   "cell_type": "code",
   "execution_count": null,
   "id": "5f85218a-97fb-40e8-8f20-38602cb0aad2",
   "metadata": {},
   "outputs": [],
   "source": [
    "dfOut"
   ]
  },
  {
   "cell_type": "code",
   "execution_count": null,
   "id": "052e28f3-8c37-4af7-aafa-14d4842956f3",
   "metadata": {},
   "outputs": [],
   "source": [
    "df_dates = pd.DataFrame({'Time': date_rng})\n",
    "df_dates.set_index('Time',inplace=True)\n",
    "df_dates = df_dates.join(df_hourly, how='outer')"
   ]
  },
  {
   "cell_type": "code",
   "execution_count": null,
   "id": "25f46118-c983-4b35-8419-964109fe0c01",
   "metadata": {},
   "outputs": [],
   "source": []
  },
  {
   "cell_type": "code",
   "execution_count": null,
   "id": "ea10e653-8bed-4de0-91b9-1a9493d9b29d",
   "metadata": {},
   "outputs": [],
   "source": [
    "dfOut = dfOut.replace(np.nan,'-9999')"
   ]
  },
  {
   "cell_type": "code",
   "execution_count": null,
   "id": "2bcc414f-e982-4b90-937f-5427357d54ec",
   "metadata": {},
   "outputs": [],
   "source": [
    "write_timeseries_csv(dfOut,'Temp_Levico_OUT_1.csv')"
   ]
  },
  {
   "cell_type": "markdown",
   "id": "595f02dc-dba9-4e2b-bdea-0bf7490efb8b",
   "metadata": {},
   "source": [
    "io_csv.write_OMS_timeseries(df.iloc[:,1:], oms_project_path+'\\\\data\\\\Levico\\\\RadSolTot_Levico_OUT_1.csv', has_datetime=False)"
   ]
  }
 ],
 "metadata": {
  "kernelspec": {
   "display_name": "Python 3 (ipykernel)",
   "language": "python",
   "name": "python3"
  },
  "language_info": {
   "codemirror_mode": {
    "name": "ipython",
    "version": 3
   },
   "file_extension": ".py",
   "mimetype": "text/x-python",
   "name": "python",
   "nbconvert_exporter": "python",
   "pygments_lexer": "ipython3",
   "version": "3.7.12"
  }
 },
 "nbformat": 4,
 "nbformat_minor": 5
}
