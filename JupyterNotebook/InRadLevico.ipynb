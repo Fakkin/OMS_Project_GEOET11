{
 "cells": [
  {
   "cell_type": "code",
   "execution_count": null,
   "id": "d90e644b-2027-4ad7-bf1d-0fd7db801392",
   "metadata": {},
   "outputs": [],
   "source": [
    "import os\n",
    "import warnings\n",
    "import datetime\n",
    "import warnings\n",
    "import numpy as np\n",
    "import pandas as pd\n",
    "import xarray as xr\n",
    "from matplotlib import rc\n",
    "import plotly.express as px\n",
    "import matplotlib.pyplot as plt\n",
    "import matplotlib.style as style\n",
    "import matplotlib.dates as mdates\n",
    "from IPython.display import Image\n",
    "warnings.filterwarnings('ignore')\n",
    "warnings.simplefilter(action='ignore', category=FutureWarning)\n",
    "oms_project_path = os.path.dirname(os.getcwd())"
   ]
  },
  {
   "cell_type": "code",
   "execution_count": null,
   "id": "04f8cf4f-eff2-4295-83c0-1fffd8a62fb8",
   "metadata": {},
   "outputs": [],
   "source": [
    "os.chdir(oms_project_path + '/data/Levico/1')"
   ]
  },
  {
   "cell_type": "code",
   "execution_count": null,
   "id": "64a914b7-782b-4cd8-8f9b-b14913132479",
   "metadata": {},
   "outputs": [],
   "source": [
    "df2 = pd.read_csv('airT_1.csv',skiprows=6, sep=',', parse_dates=[0], na_values=-9999,usecols=[1,2])\n",
    "df2.columns = ['Datetime','Temperature']\n",
    "fig = px.line(df2, x='Datetime', y='Temperature')\n",
    "fig.update_traces(line_color='red')\n",
    "fig.show()"
   ]
  }
 ],
 "metadata": {
  "kernelspec": {
   "display_name": "Python 3 (ipykernel)",
   "language": "python",
   "name": "python3"
  },
  "language_info": {
   "codemirror_mode": {
    "name": "ipython",
    "version": 3
   },
   "file_extension": ".py",
   "mimetype": "text/x-python",
   "name": "python",
   "nbconvert_exporter": "python",
   "pygments_lexer": "ipython3",
   "version": "3.7.12"
  }
 },
 "nbformat": 4,
 "nbformat_minor": 5
}
